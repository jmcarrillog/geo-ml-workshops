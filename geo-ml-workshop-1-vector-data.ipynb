{
 "cells": [
  {
   "cell_type": "markdown",
   "metadata": {
    "_uuid": "6ded7eab7bcfa45c6dc3dd6c5bedbdfaa17e19af"
   },
   "source": [
    "# Machine Learning for Geospatial Data Workshop #1\n",
    "*Geospatial Club -\n",
    "Winter 2019*\n",
    "\n",
    "## [Slides](http://bit.ly/geoml-1) and [Kernel](https://www.kaggle.com/jrmistry/uwgeo-club-ml-for-vector-geodata-workshop-1) for the first workshop on Machine Learning for [Vector data](https://www.kaggle.com/jrmistry/killed-or-seriously-injured-ksi-toronto-clean).\n",
    "\n",
    "## [Slides](http://bit.ly/geoml-2) and [Kernel](https://www.kaggle.com/jcarrillo/machine-learning-for-geospatial-data-workshop-2a) for the second workshop on Machine Learning for [Raster data](https://www.kaggle.com/c/planet-understanding-the-amazon-from-space).\n",
    "\n",
    "\n",
    "\n",
    "The purpose of the workshop is to give the [UWaterloo](https://uwaterloo.ca/) students and the members of the [Geospatial Club](http://bit.ly/uwgeospatial) an introduction to the most recent Machine Learning tools for analysis of Geospatial data. The workshop is held in collaboration with the [Geospatial Centre at the University of Waterloo](https://uwaterloo.ca/library/geospatial/).\n",
    "\n",
    "All of the software tools and libraries are open source. The dataset we use is a table titled \"Killed or Seriously Injured\" (KSI) from the [City of Toronto's Police Open Data portal](http://bit.ly/open-data-ksi-toronto). It contains registries of all traffic collisions between 2007 and 2017 where a person was injured or property damage was reported.\n",
    "\n",
    "We hope that you will learn something new from the content of this workshop. If you have questions after the workshop, then please feel free to message the Geospatial Club or the workshop presenters.\n",
    "\n",
    "* [Jaydeep Mistry](https://www.linkedin.com/in/jaydeep-mistry/) at jaydeep.mistry@uwaterloo.ca\n",
    "\n",
    "* [Juan Carrillo](https://www.linkedin.com/in/jmcarrillog/) at jmcarril@uwaterloo.ca\n",
    "\n",
    "\n"
   ]
  },
  {
   "cell_type": "markdown",
   "metadata": {
    "_uuid": "9b5206c6782f411bc09a0b7f64e39ce8ec35f6f6"
   },
   "source": [
    "### **Press CTRL+Enter to run each cell**\n",
    "### Press SHIFT+Enter to run a cell and move onto the next cell"
   ]
  },
  {
   "cell_type": "markdown",
   "metadata": {
    "_uuid": "3ec53ed6830d1fe7cbb91bbcb4e1c8341df7e870"
   },
   "source": [
    "# Working with Python Libraries\n",
    "\n",
    "https://www.python.org/"
   ]
  },
  {
   "cell_type": "code",
   "execution_count": 1,
   "metadata": {
    "_uuid": "af7dd5ccbb92d9269105f846cc1de97278092e4d"
   },
   "outputs": [],
   "source": [
    "# This Python 3 environment comes with many helpful analytics libraries installed\n",
    "# It is defined by the kaggle/python docker image: https://github.com/kaggle/docker-python\n",
    "# For example, here's several helpful packages to load in \n",
    "\n",
    "import numpy as np # linear algebra\n",
    "import pandas as pd # data processing, CSV file I/O (e.g. pd.read_csv)"
   ]
  },
  {
   "cell_type": "markdown",
   "metadata": {
    "_uuid": "c64b30380ba17ac0d45ec886487374ad26d31c1f"
   },
   "source": [
    "# Numpy Overview\n",
    "\n",
    "Numpy is a Python library for linear algebra (matrices) calculations.\n",
    "\n",
    "http://www.numpy.org/"
   ]
  },
  {
   "cell_type": "code",
   "execution_count": 2,
   "metadata": {
    "_uuid": "d2f90138a769268f2a627b56d5ca4a40839284ef"
   },
   "outputs": [],
   "source": [
    "data = np.array([['a','b','c'], [4,5,6], [True,False,None]])"
   ]
  },
  {
   "cell_type": "code",
   "execution_count": 3,
   "metadata": {
    "_uuid": "2e7afa90409c256bd2d5b48b59b9c8f0029321ee"
   },
   "outputs": [
    {
     "data": {
      "text/plain": [
       "array([['a', 'b', 'c'],\n",
       "       [4, 5, 6],\n",
       "       [True, False, None]], dtype=object)"
      ]
     },
     "execution_count": 3,
     "metadata": {},
     "output_type": "execute_result"
    }
   ],
   "source": [
    "data"
   ]
  },
  {
   "cell_type": "markdown",
   "metadata": {
    "_uuid": "434ce70e23ff1817be2fd7d80f42e231a8b12766"
   },
   "source": [
    "# Pandas Overview\n",
    "\n",
    "Pandas is a Python library for data preparation and analysis.\n",
    "\n",
    "https://pandas.pydata.org/"
   ]
  },
  {
   "cell_type": "code",
   "execution_count": 4,
   "metadata": {
    "_uuid": "c669ba4ebc359617035f449a0957a7a55a5fda0f"
   },
   "outputs": [],
   "source": [
    "df_data = pd.DataFrame(data)"
   ]
  },
  {
   "cell_type": "code",
   "execution_count": 5,
   "metadata": {
    "_uuid": "cf572e07b69c7cd26bcb377c97ec9e683c0dbb2a"
   },
   "outputs": [
    {
     "data": {
      "text/html": [
       "<div>\n",
       "<style scoped>\n",
       "    .dataframe tbody tr th:only-of-type {\n",
       "        vertical-align: middle;\n",
       "    }\n",
       "\n",
       "    .dataframe tbody tr th {\n",
       "        vertical-align: top;\n",
       "    }\n",
       "\n",
       "    .dataframe thead th {\n",
       "        text-align: right;\n",
       "    }\n",
       "</style>\n",
       "<table border=\"1\" class=\"dataframe\">\n",
       "  <thead>\n",
       "    <tr style=\"text-align: right;\">\n",
       "      <th></th>\n",
       "      <th>0</th>\n",
       "      <th>1</th>\n",
       "      <th>2</th>\n",
       "    </tr>\n",
       "  </thead>\n",
       "  <tbody>\n",
       "    <tr>\n",
       "      <th>0</th>\n",
       "      <td>a</td>\n",
       "      <td>b</td>\n",
       "      <td>c</td>\n",
       "    </tr>\n",
       "    <tr>\n",
       "      <th>1</th>\n",
       "      <td>4</td>\n",
       "      <td>5</td>\n",
       "      <td>6</td>\n",
       "    </tr>\n",
       "    <tr>\n",
       "      <th>2</th>\n",
       "      <td>True</td>\n",
       "      <td>False</td>\n",
       "      <td>None</td>\n",
       "    </tr>\n",
       "  </tbody>\n",
       "</table>\n",
       "</div>"
      ],
      "text/plain": [
       "      0      1     2\n",
       "0     a      b     c\n",
       "1     4      5     6\n",
       "2  True  False  None"
      ]
     },
     "execution_count": 5,
     "metadata": {},
     "output_type": "execute_result"
    }
   ],
   "source": [
    "df_data"
   ]
  },
  {
   "cell_type": "markdown",
   "metadata": {
    "_uuid": "dc8deab075add8ab9c2c39de2e54f27b75400a50"
   },
   "source": [
    "# Matplotlib Overview\n",
    "\n",
    "Matplotlib is a Python library for data visualization.\n",
    "\n",
    "https://matplotlib.org/"
   ]
  },
  {
   "cell_type": "code",
   "execution_count": 6,
   "metadata": {
    "_uuid": "17206dfa6410aa17727578459f4d48285b8f899d"
   },
   "outputs": [],
   "source": [
    "import matplotlib.pyplot as plt"
   ]
  },
  {
   "cell_type": "code",
   "execution_count": 7,
   "metadata": {
    "_uuid": "c60b4bdb3913b0293aa6cc609657aecca5a3e94e"
   },
   "outputs": [],
   "source": [
    "df_emissions = pd.DataFrame(data = [[25, 30], [45, 25], [30, 45]],\n",
    "                            index = [2011, 2012, 2013],\n",
    "                            columns = ['Canada', 'USA'])"
   ]
  },
  {
   "cell_type": "code",
   "execution_count": 8,
   "metadata": {
    "_uuid": "dc48e1d1b8e897e35c0fc42bf26a6204a2ea2b6a"
   },
   "outputs": [
    {
     "data": {
      "text/html": [
       "<div>\n",
       "<style scoped>\n",
       "    .dataframe tbody tr th:only-of-type {\n",
       "        vertical-align: middle;\n",
       "    }\n",
       "\n",
       "    .dataframe tbody tr th {\n",
       "        vertical-align: top;\n",
       "    }\n",
       "\n",
       "    .dataframe thead th {\n",
       "        text-align: right;\n",
       "    }\n",
       "</style>\n",
       "<table border=\"1\" class=\"dataframe\">\n",
       "  <thead>\n",
       "    <tr style=\"text-align: right;\">\n",
       "      <th></th>\n",
       "      <th>Canada</th>\n",
       "      <th>USA</th>\n",
       "    </tr>\n",
       "  </thead>\n",
       "  <tbody>\n",
       "    <tr>\n",
       "      <th>2011</th>\n",
       "      <td>25</td>\n",
       "      <td>30</td>\n",
       "    </tr>\n",
       "    <tr>\n",
       "      <th>2012</th>\n",
       "      <td>45</td>\n",
       "      <td>25</td>\n",
       "    </tr>\n",
       "    <tr>\n",
       "      <th>2013</th>\n",
       "      <td>30</td>\n",
       "      <td>45</td>\n",
       "    </tr>\n",
       "  </tbody>\n",
       "</table>\n",
       "</div>"
      ],
      "text/plain": [
       "      Canada  USA\n",
       "2011      25   30\n",
       "2012      45   25\n",
       "2013      30   45"
      ]
     },
     "execution_count": 8,
     "metadata": {},
     "output_type": "execute_result"
    }
   ],
   "source": [
    "df_emissions"
   ]
  },
  {
   "cell_type": "code",
   "execution_count": 9,
   "metadata": {
    "_uuid": "c21224ef70c5ab1e4d82ac641cc9470ac7372b18",
    "scrolled": true
   },
   "outputs": [
    {
     "data": {
      "image/png": "[encoded data removed]",
      "text/plain": [
       "<Figure size 720x360 with 1 Axes>"
      ]
     },
     "metadata": {},
     "output_type": "display_data"
    }
   ],
   "source": [
    "plt.figure(figsize=(10,5))\n",
    "plt.plot(df_emissions)\n",
    "plt.xticks(df_emissions.index)\n",
    "plt.legend(df_emissions.columns)\n",
    "plt.xlabel('Time')\n",
    "plt.ylabel('Emissions')\n",
    "plt.title('Emissions From Cars')\n",
    "\n",
    "plt.show()"
   ]
  },
  {
   "cell_type": "markdown",
   "metadata": {
    "_uuid": "dbbc8ba4e688f2bb72e0451a6a48312124f2d95e"
   },
   "source": [
    "# Folium Overview\n",
    "\n",
    "Folium is a Python library for visualizing geospatial data, in fact it, uses Leaflet under the hood.\n",
    "\n",
    "* http://python-visualization.github.io/folium/\n",
    "\n",
    "* https://leafletjs.com/"
   ]
  },
  {
   "cell_type": "code",
   "execution_count": 10,
   "metadata": {
    "_uuid": "c60ed14428c072bc3cdb7ffdfa1f0cfa9c12f4e3"
   },
   "outputs": [],
   "source": [
    "import folium"
   ]
  },
  {
   "cell_type": "code",
   "execution_count": 11,
   "metadata": {
    "_uuid": "e349815c88465fab23dbdc4d8e8d2314b4c8340b"
   },
   "outputs": [],
   "source": [
    "data = (\n",
    "    # Matrix of size 70 by 3, filled with numbers \n",
    "    # between -1 and 1 following a normal distribution\n",
    "    np.random.normal(size=(70, 3)) *\n",
    "    # Matrix of size 3 by 1, to scale values in the previous matrix\n",
    "    np.array([[0.01, 0.01, 1]]) +\n",
    "    # Matrix of size 3 by 1, with coordiates of University of Waterloo\n",
    "    np.array([[43.471257, -80.543021, 1]])\n",
    ").tolist()"
   ]
  },
  {
   "cell_type": "code",
   "execution_count": 12,
   "metadata": {
    "_uuid": "d607df8bb0ae82b0d1e515707e3e23701852f355",
    "scrolled": true
   },
   "outputs": [
    {
     "data": {
      "text/plain": [
       "[[43.477700681787226, -80.55914223371971, 0.9482984308451783],\n",
       " [43.47503230015702, -80.54282361968076, 0.6101789612810646],\n",
       " [43.47433523790503, -80.53753146097546, -0.09431079216106242]]"
      ]
     },
     "execution_count": 12,
     "metadata": {},
     "output_type": "execute_result"
    }
   ],
   "source": [
    "# format of data: [latitude, longitude, weight]\n",
    "data[0:3]"
   ]
  },
  {
   "cell_type": "code",
   "execution_count": 13,
   "metadata": {
    "_uuid": "186d5bfea917786fabce8ec98e8b207c387b09c5",
    "scrolled": false
   },
   "outputs": [
    {
     "data": {
      "text/html": [
       "<div style=\"width:100%;\"><div style=\"position:relative;width:100%;height:0;padding-bottom:60%;\"><iframe src=\"data:text/html;charset=utf-8;base64,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\" style=\"position:absolute;width:100%;height:100%;left:0;top:0;border:none !important;\" allowfullscreen webkitallowfullscreen mozallowfullscreen></iframe></div></div>"
      ],
      "text/plain": [
       "<folium.folium.Map at 0x7fedec8c0198>"
      ]
     },
     "execution_count": 13,
     "metadata": {},
     "output_type": "execute_result"
    }
   ],
   "source": [
    "from folium.plugins import HeatMap\n",
    "\n",
    "map_demo = folium.Map([43.471257, -80.543021],\n",
    "                      #tiles='Stamen Toner',\n",
    "                      zoom_start=14)\n",
    "HeatMap(data).add_to(map_demo)\n",
    "\n",
    "map_demo"
   ]
  },
  {
   "cell_type": "markdown",
   "metadata": {
    "_uuid": "8588a095309a9acc2d6ef64d2020b8dd21bb634e"
   },
   "source": [
    "# Loading Data\n",
    " [Killed or Seriously Injured (KSI) from 2007 – 2017](http://bit.ly/open-data-ksi-toronto)"
   ]
  },
  {
   "cell_type": "code",
   "execution_count": 14,
   "metadata": {
    "_uuid": "bf3d5051ea0bcb4d9b04a943a57da5ad6040db42"
   },
   "outputs": [
    {
     "name": "stdout",
     "output_type": "stream",
     "text": [
      "['KSI_CLEAN.csv']\n"
     ]
    }
   ],
   "source": [
    "# Importing OS is typically used for reading and writing from files\n",
    "import os\n",
    "# Print contents in the input folder\n",
    "print(os.listdir(\"../input\"))\n",
    "\n",
    "# Any results you write to the current directory are saved as output."
   ]
  },
  {
   "cell_type": "code",
   "execution_count": 15,
   "metadata": {
    "_cell_guid": "79c7e3d0-c299-4dcb-8224-4455121ee9b0",
    "_uuid": "d629ff2d2480ee46fbb7e2d37f6b5fab8052498a"
   },
   "outputs": [],
   "source": [
    "# Pandas for data importing\n",
    "df_ksi = pd.read_csv('../input/KSI_CLEAN.csv')"
   ]
  },
  {
   "cell_type": "markdown",
   "metadata": {
    "_uuid": "8c3d48bdc5f2a92e1101173d8032a5ac195d6023"
   },
   "source": [
    "# Data Exploration"
   ]
  },
  {
   "cell_type": "code",
   "execution_count": 16,
   "metadata": {
    "_uuid": "ccd7719f90a6b6f42549758494d2e82becc54515"
   },
   "outputs": [
    {
     "name": "stdout",
     "output_type": "stream",
     "text": [
      "<class 'pandas.core.frame.DataFrame'>\n",
      "RangeIndex: 12557 entries, 0 to 12556\n",
      "Data columns (total 56 columns):\n",
      "ACCNUM           12557 non-null int64\n",
      "YEAR             12557 non-null int64\n",
      "MONTH            12557 non-null int64\n",
      "DAY              12557 non-null int64\n",
      "HOUR             12557 non-null int64\n",
      "MINUTES          12557 non-null int64\n",
      "WEEKDAY          12557 non-null int64\n",
      "LATITUDE         12557 non-null float64\n",
      "LONGITUDE        12557 non-null float64\n",
      "Ward_Name        12557 non-null object\n",
      "Ward_ID          12557 non-null int64\n",
      "Hood_Name        12557 non-null object\n",
      "Hood_ID          12557 non-null int64\n",
      "Division         12557 non-null object\n",
      "District         12557 non-null object\n",
      "STREET1          12557 non-null object\n",
      "STREET2          12557 non-null object\n",
      "OFFSET           12557 non-null object\n",
      "ROAD_CLASS       12557 non-null object\n",
      "LOCCOORD         12557 non-null object\n",
      "ACCLOC           12557 non-null object\n",
      "TRAFFCTL         12557 non-null object\n",
      "VISIBILITY       12557 non-null object\n",
      "LIGHT            12557 non-null object\n",
      "RDSFCOND         12557 non-null object\n",
      "ACCLASS          12557 non-null object\n",
      "IMPACTYPE        12557 non-null object\n",
      "INVTYPE          12557 non-null object\n",
      "INVAGE           12557 non-null object\n",
      "INJURY           12557 non-null object\n",
      "FATAL_NO         12557 non-null int64\n",
      "INITDIR          12557 non-null object\n",
      "VEHTYPE          12557 non-null object\n",
      "MANOEUVER        12557 non-null object\n",
      "DRIVACT          12557 non-null object\n",
      "DRIVCOND         12557 non-null object\n",
      "PEDTYPE          12557 non-null object\n",
      "PEDACT           12557 non-null object\n",
      "PEDCOND          12557 non-null object\n",
      "CYCLISTYPE       12557 non-null object\n",
      "CYCACT           12557 non-null object\n",
      "CYCCOND          12557 non-null object\n",
      "PEDESTRIAN       12557 non-null int64\n",
      "CYCLIST          12557 non-null int64\n",
      "AUTOMOBILE       12557 non-null int64\n",
      "MOTORCYCLE       12557 non-null int64\n",
      "TRUCK            12557 non-null int64\n",
      "TRSN_CITY_VEH    12557 non-null int64\n",
      "EMERG_VEH        12557 non-null int64\n",
      "PASSENGER        12557 non-null int64\n",
      "SPEEDING         12557 non-null int64\n",
      "AG_DRIV          12557 non-null int64\n",
      "REDLIGHT         12557 non-null int64\n",
      "ALCOHOL          12557 non-null int64\n",
      "DISABILITY       12557 non-null int64\n",
      "FATAL            12557 non-null int64\n",
      "dtypes: float64(2), int64(24), object(30)\n",
      "memory usage: 5.4+ MB\n"
     ]
    }
   ],
   "source": [
    "# the info() function writes down descriptive information about the dataset such as:\n",
    "#  - Number of rows\n",
    "#  - Attribute names, here each attribute is represented as a column of data\n",
    "#  - Data types of attributes\n",
    "#  - Order of attributes\n",
    "\n",
    "df_ksi.info()"
   ]
  },
  {
   "cell_type": "markdown",
   "metadata": {
    "_uuid": "fb4c77d593045b262ea8d643c8b441649a5cd578"
   },
   "source": [
    "## Attribute names "
   ]
  },
  {
   "cell_type": "code",
   "execution_count": 17,
   "metadata": {
    "_uuid": "4fa95389d8af95ca8e8d76f9b25a89891e80e796"
   },
   "outputs": [
    {
     "name": "stdout",
     "output_type": "stream",
     "text": [
      "Index(['ACCNUM', 'YEAR', 'MONTH', 'DAY', 'HOUR', 'MINUTES', 'WEEKDAY',\n",
      "       'LATITUDE', 'LONGITUDE', 'Ward_Name', 'Ward_ID', 'Hood_Name', 'Hood_ID',\n",
      "       'Division', 'District', 'STREET1', 'STREET2', 'OFFSET', 'ROAD_CLASS',\n",
      "       'LOCCOORD', 'ACCLOC', 'TRAFFCTL', 'VISIBILITY', 'LIGHT', 'RDSFCOND',\n",
      "       'ACCLASS', 'IMPACTYPE', 'INVTYPE', 'INVAGE', 'INJURY', 'FATAL_NO',\n",
      "       'INITDIR', 'VEHTYPE', 'MANOEUVER', 'DRIVACT', 'DRIVCOND', 'PEDTYPE',\n",
      "       'PEDACT', 'PEDCOND', 'CYCLISTYPE', 'CYCACT', 'CYCCOND', 'PEDESTRIAN',\n",
      "       'CYCLIST', 'AUTOMOBILE', 'MOTORCYCLE', 'TRUCK', 'TRSN_CITY_VEH',\n",
      "       'EMERG_VEH', 'PASSENGER', 'SPEEDING', 'AG_DRIV', 'REDLIGHT', 'ALCOHOL',\n",
      "       'DISABILITY', 'FATAL'],\n",
      "      dtype='object')\n"
     ]
    }
   ],
   "source": [
    "# write down just the column names of dataset\n",
    "print(df_ksi.columns)"
   ]
  },
  {
   "cell_type": "code",
   "execution_count": 18,
   "metadata": {
    "_uuid": "3b06310417b67eb62fcec18d41533479b5533e1d"
   },
   "outputs": [],
   "source": [
    "# Shortlist of the numerical attributes\n",
    "ksi_numerical = ['YEAR', 'MONTH', 'DAY', 'HOUR', 'MINUTES', 'WEEKDAY', \n",
    "                 'LATITUDE', 'LONGITUDE', 'PEDESTRIAN', 'CYCLIST', 'AUTOMOBILE', \n",
    "                 'MOTORCYCLE', 'TRUCK', 'TRSN_CITY_VEH', 'EMERG_VEH', 'PASSENGER', \n",
    "                 'SPEEDING', 'AG_DRIV', 'REDLIGHT', 'ALCOHOL', 'DISABILITY', 'FATAL']"
   ]
  },
  {
   "cell_type": "code",
   "execution_count": 19,
   "metadata": {
    "_uuid": "c7a91fad159bb312a98363f27cef4b48c2626ed9"
   },
   "outputs": [],
   "source": [
    "# Shortlist of the categorical attributes\n",
    "ksi_categorical = ['Ward_Name', 'Ward_ID', 'Hood_Name', 'Hood_ID', 'Division', \n",
    "                   'District', 'STREET1', 'STREET2', 'OFFSET', 'ROAD_CLASS', \n",
    "                   'LOCCOORD', 'ACCLOC', 'TRAFFCTL', 'VISIBILITY', 'LIGHT', \n",
    "                   'RDSFCOND', 'ACCLASS', 'IMPACTYPE', 'INVTYPE', 'INVAGE', \n",
    "                   'INJURY', 'INITDIR', 'VEHTYPE', 'MANOEUVER', 'DRIVACT', \n",
    "                   'DRIVCOND', 'PEDTYPE', 'PEDACT', 'PEDCOND', 'CYCLISTYPE', \n",
    "                   'CYCACT', 'CYCCOND']"
   ]
  },
  {
   "cell_type": "code",
   "execution_count": 20,
   "metadata": {
    "_uuid": "8a000c739c6e3bdc8d44cf583b21b8c51ebce146"
   },
   "outputs": [],
   "source": [
    "# Shortlist of the geographic attributes\n",
    "ksi_geographical = ['LATITUDE', 'LONGITUDE', 'Ward_Name', 'Hood_Name', 'District',\n",
    "                   'Division', 'STREET1', 'STREET2']"
   ]
  },
  {
   "cell_type": "code",
   "execution_count": 21,
   "metadata": {
    "_uuid": "9e96d9224eb767e7de8a12ce82e8e97dc74a71b6"
   },
   "outputs": [],
   "source": [
    "# Shortlist of the Boolean attributes\n",
    "ksi_boolean = ['PEDESTRIAN', 'CYCLIST', 'AUTOMOBILE', 'MOTORCYCLE', 'TRUCK', \n",
    "               'TRSN_CITY_VEH','EMERG_VEH', 'PASSENGER', 'SPEEDING', 'AG_DRIV', \n",
    "               'REDLIGHT', 'ALCOHOL', 'DISABILITY', 'FATAL']"
   ]
  },
  {
   "cell_type": "code",
   "execution_count": 22,
   "metadata": {
    "_uuid": "a6b471db43eeb0e2b37b3a6a9543677d0204e237"
   },
   "outputs": [
    {
     "data": {
      "text/html": [
       "<div>\n",
       "<style scoped>\n",
       "    .dataframe tbody tr th:only-of-type {\n",
       "        vertical-align: middle;\n",
       "    }\n",
       "\n",
       "    .dataframe tbody tr th {\n",
       "        vertical-align: top;\n",
       "    }\n",
       "\n",
       "    .dataframe thead th {\n",
       "        text-align: right;\n",
       "    }\n",
       "</style>\n",
       "<table border=\"1\" class=\"dataframe\">\n",
       "  <thead>\n",
       "    <tr style=\"text-align: right;\">\n",
       "      <th></th>\n",
       "      <th>ACCNUM</th>\n",
       "      <th>YEAR</th>\n",
       "      <th>MONTH</th>\n",
       "      <th>DAY</th>\n",
       "      <th>HOUR</th>\n",
       "      <th>MINUTES</th>\n",
       "      <th>WEEKDAY</th>\n",
       "      <th>LATITUDE</th>\n",
       "      <th>LONGITUDE</th>\n",
       "      <th>Ward_Name</th>\n",
       "      <th>Ward_ID</th>\n",
       "      <th>Hood_Name</th>\n",
       "      <th>Hood_ID</th>\n",
       "      <th>Division</th>\n",
       "      <th>District</th>\n",
       "      <th>STREET1</th>\n",
       "      <th>STREET2</th>\n",
       "      <th>OFFSET</th>\n",
       "      <th>ROAD_CLASS</th>\n",
       "      <th>LOCCOORD</th>\n",
       "      <th>ACCLOC</th>\n",
       "      <th>TRAFFCTL</th>\n",
       "      <th>VISIBILITY</th>\n",
       "      <th>LIGHT</th>\n",
       "      <th>RDSFCOND</th>\n",
       "      <th>ACCLASS</th>\n",
       "      <th>IMPACTYPE</th>\n",
       "      <th>INVTYPE</th>\n",
       "      <th>INVAGE</th>\n",
       "      <th>INJURY</th>\n",
       "      <th>FATAL_NO</th>\n",
       "      <th>INITDIR</th>\n",
       "      <th>VEHTYPE</th>\n",
       "      <th>MANOEUVER</th>\n",
       "      <th>DRIVACT</th>\n",
       "      <th>DRIVCOND</th>\n",
       "      <th>PEDTYPE</th>\n",
       "      <th>PEDACT</th>\n",
       "      <th>PEDCOND</th>\n",
       "      <th>CYCLISTYPE</th>\n",
       "      <th>CYCACT</th>\n",
       "      <th>CYCCOND</th>\n",
       "      <th>PEDESTRIAN</th>\n",
       "      <th>CYCLIST</th>\n",
       "      <th>AUTOMOBILE</th>\n",
       "      <th>MOTORCYCLE</th>\n",
       "      <th>TRUCK</th>\n",
       "      <th>TRSN_CITY_VEH</th>\n",
       "      <th>EMERG_VEH</th>\n",
       "      <th>PASSENGER</th>\n",
       "      <th>SPEEDING</th>\n",
       "      <th>AG_DRIV</th>\n",
       "      <th>REDLIGHT</th>\n",
       "      <th>ALCOHOL</th>\n",
       "      <th>DISABILITY</th>\n",
       "      <th>FATAL</th>\n",
       "    </tr>\n",
       "  </thead>\n",
       "  <tbody>\n",
       "    <tr>\n",
       "      <th>0</th>\n",
       "      <td>1249781</td>\n",
       "      <td>2011</td>\n",
       "      <td>8</td>\n",
       "      <td>4</td>\n",
       "      <td>23</td>\n",
       "      <td>18</td>\n",
       "      <td>3</td>\n",
       "      <td>43.651545</td>\n",
       "      <td>-79.383490</td>\n",
       "      <td>Toronto Centre-Rosedale (27)</td>\n",
       "      <td>27</td>\n",
       "      <td>Bay Street Corridor (76)</td>\n",
       "      <td>76</td>\n",
       "      <td>D52</td>\n",
       "      <td>Toronto East York</td>\n",
       "      <td>QUEEN ST W</td>\n",
       "      <td>YORK ST</td>\n",
       "      <td></td>\n",
       "      <td>Major Arterial</td>\n",
       "      <td>Mid-Block</td>\n",
       "      <td></td>\n",
       "      <td>No Control</td>\n",
       "      <td>Clear</td>\n",
       "      <td>Dark</td>\n",
       "      <td>Dry</td>\n",
       "      <td>Non-Fatal Injury</td>\n",
       "      <td>Pedestrian Collisions</td>\n",
       "      <td>Driver</td>\n",
       "      <td>50 to 54</td>\n",
       "      <td>None</td>\n",
       "      <td>0</td>\n",
       "      <td>West</td>\n",
       "      <td>Municipal Transit Bus (TTC)</td>\n",
       "      <td>Going Ahead</td>\n",
       "      <td>Driving Properly</td>\n",
       "      <td>Normal</td>\n",
       "      <td></td>\n",
       "      <td></td>\n",
       "      <td></td>\n",
       "      <td></td>\n",
       "      <td></td>\n",
       "      <td></td>\n",
       "      <td>1</td>\n",
       "      <td>0</td>\n",
       "      <td>0</td>\n",
       "      <td>0</td>\n",
       "      <td>0</td>\n",
       "      <td>1</td>\n",
       "      <td>0</td>\n",
       "      <td>0</td>\n",
       "      <td>0</td>\n",
       "      <td>0</td>\n",
       "      <td>0</td>\n",
       "      <td>0</td>\n",
       "      <td>0</td>\n",
       "      <td>0</td>\n",
       "    </tr>\n",
       "    <tr>\n",
       "      <th>1</th>\n",
       "      <td>1311542</td>\n",
       "      <td>2012</td>\n",
       "      <td>8</td>\n",
       "      <td>19</td>\n",
       "      <td>23</td>\n",
       "      <td>18</td>\n",
       "      <td>6</td>\n",
       "      <td>43.780445</td>\n",
       "      <td>-79.300490</td>\n",
       "      <td>Scarborough-Agincourt (40)</td>\n",
       "      <td>40</td>\n",
       "      <td>Tam O'Shanter-Sullivan (118)</td>\n",
       "      <td>118</td>\n",
       "      <td>D42</td>\n",
       "      <td>Scarborough</td>\n",
       "      <td>SHEPPARD AVE E</td>\n",
       "      <td>AMETHYST RD</td>\n",
       "      <td></td>\n",
       "      <td>Major Arterial</td>\n",
       "      <td>Intersection</td>\n",
       "      <td></td>\n",
       "      <td>No Control</td>\n",
       "      <td>Clear</td>\n",
       "      <td>Dark, artificial</td>\n",
       "      <td>Dry</td>\n",
       "      <td>Non-Fatal Injury</td>\n",
       "      <td>Pedestrian Collisions</td>\n",
       "      <td>Passenger</td>\n",
       "      <td>25 to 29</td>\n",
       "      <td>Minimal</td>\n",
       "      <td>0</td>\n",
       "      <td></td>\n",
       "      <td>Other</td>\n",
       "      <td></td>\n",
       "      <td></td>\n",
       "      <td></td>\n",
       "      <td></td>\n",
       "      <td></td>\n",
       "      <td></td>\n",
       "      <td></td>\n",
       "      <td></td>\n",
       "      <td></td>\n",
       "      <td>1</td>\n",
       "      <td>0</td>\n",
       "      <td>1</td>\n",
       "      <td>0</td>\n",
       "      <td>0</td>\n",
       "      <td>0</td>\n",
       "      <td>0</td>\n",
       "      <td>1</td>\n",
       "      <td>1</td>\n",
       "      <td>1</td>\n",
       "      <td>0</td>\n",
       "      <td>0</td>\n",
       "      <td>0</td>\n",
       "      <td>0</td>\n",
       "    </tr>\n",
       "    <tr>\n",
       "      <th>2</th>\n",
       "      <td>5002235651</td>\n",
       "      <td>2015</td>\n",
       "      <td>12</td>\n",
       "      <td>30</td>\n",
       "      <td>23</td>\n",
       "      <td>39</td>\n",
       "      <td>2</td>\n",
       "      <td>43.682342</td>\n",
       "      <td>-79.328266</td>\n",
       "      <td>Toronto-Danforth (30)</td>\n",
       "      <td>30</td>\n",
       "      <td>Greenwood-Coxwell (65)</td>\n",
       "      <td>65</td>\n",
       "      <td>D55</td>\n",
       "      <td>Toronto East York</td>\n",
       "      <td>DANFORTH AVE</td>\n",
       "      <td>GILLARD AVE</td>\n",
       "      <td></td>\n",
       "      <td>Major Arterial</td>\n",
       "      <td>Intersection</td>\n",
       "      <td>At Intersection</td>\n",
       "      <td>No Control</td>\n",
       "      <td>Clear</td>\n",
       "      <td>Dark, artificial</td>\n",
       "      <td>Dry</td>\n",
       "      <td>Fatal</td>\n",
       "      <td>Pedestrian Collisions</td>\n",
       "      <td>Pedestrian</td>\n",
       "      <td>60 to 64</td>\n",
       "      <td>Fatal</td>\n",
       "      <td>64</td>\n",
       "      <td>South</td>\n",
       "      <td></td>\n",
       "      <td></td>\n",
       "      <td></td>\n",
       "      <td></td>\n",
       "      <td>Vehicle is going straight thru inter.while ped...</td>\n",
       "      <td>Crossing, no Traffic Control</td>\n",
       "      <td>Normal</td>\n",
       "      <td></td>\n",
       "      <td></td>\n",
       "      <td></td>\n",
       "      <td>1</td>\n",
       "      <td>0</td>\n",
       "      <td>1</td>\n",
       "      <td>0</td>\n",
       "      <td>0</td>\n",
       "      <td>0</td>\n",
       "      <td>0</td>\n",
       "      <td>0</td>\n",
       "      <td>0</td>\n",
       "      <td>1</td>\n",
       "      <td>0</td>\n",
       "      <td>0</td>\n",
       "      <td>0</td>\n",
       "      <td>1</td>\n",
       "    </tr>\n",
       "  </tbody>\n",
       "</table>\n",
       "</div>"
      ],
      "text/plain": [
       "       ACCNUM  YEAR  MONTH  DAY  ...    REDLIGHT  ALCOHOL  DISABILITY  FATAL\n",
       "0     1249781  2011      8    4  ...           0        0           0      0\n",
       "1     1311542  2012      8   19  ...           0        0           0      0\n",
       "2  5002235651  2015     12   30  ...           0        0           0      1\n",
       "\n",
       "[3 rows x 56 columns]"
      ]
     },
     "execution_count": 22,
     "metadata": {},
     "output_type": "execute_result"
    }
   ],
   "source": [
    "df_ksi.head(3)"
   ]
  },
  {
   "cell_type": "code",
   "execution_count": 23,
   "metadata": {
    "_uuid": "b047a779418810002919ad34faa3e9dc586f791a"
   },
   "outputs": [
    {
     "data": {
      "text/html": [
       "<div>\n",
       "<style scoped>\n",
       "    .dataframe tbody tr th:only-of-type {\n",
       "        vertical-align: middle;\n",
       "    }\n",
       "\n",
       "    .dataframe tbody tr th {\n",
       "        vertical-align: top;\n",
       "    }\n",
       "\n",
       "    .dataframe thead th {\n",
       "        text-align: right;\n",
       "    }\n",
       "</style>\n",
       "<table border=\"1\" class=\"dataframe\">\n",
       "  <thead>\n",
       "    <tr style=\"text-align: right;\">\n",
       "      <th></th>\n",
       "      <th>ACCNUM</th>\n",
       "      <th>YEAR</th>\n",
       "      <th>MONTH</th>\n",
       "      <th>DAY</th>\n",
       "      <th>HOUR</th>\n",
       "      <th>MINUTES</th>\n",
       "      <th>WEEKDAY</th>\n",
       "      <th>LATITUDE</th>\n",
       "      <th>LONGITUDE</th>\n",
       "      <th>Ward_Name</th>\n",
       "      <th>Ward_ID</th>\n",
       "      <th>Hood_Name</th>\n",
       "      <th>Hood_ID</th>\n",
       "      <th>Division</th>\n",
       "      <th>District</th>\n",
       "      <th>STREET1</th>\n",
       "      <th>STREET2</th>\n",
       "      <th>OFFSET</th>\n",
       "      <th>ROAD_CLASS</th>\n",
       "      <th>LOCCOORD</th>\n",
       "      <th>ACCLOC</th>\n",
       "      <th>TRAFFCTL</th>\n",
       "      <th>VISIBILITY</th>\n",
       "      <th>LIGHT</th>\n",
       "      <th>RDSFCOND</th>\n",
       "      <th>ACCLASS</th>\n",
       "      <th>IMPACTYPE</th>\n",
       "      <th>INVTYPE</th>\n",
       "      <th>INVAGE</th>\n",
       "      <th>INJURY</th>\n",
       "      <th>FATAL_NO</th>\n",
       "      <th>INITDIR</th>\n",
       "      <th>VEHTYPE</th>\n",
       "      <th>MANOEUVER</th>\n",
       "      <th>DRIVACT</th>\n",
       "      <th>DRIVCOND</th>\n",
       "      <th>PEDTYPE</th>\n",
       "      <th>PEDACT</th>\n",
       "      <th>PEDCOND</th>\n",
       "      <th>CYCLISTYPE</th>\n",
       "      <th>CYCACT</th>\n",
       "      <th>CYCCOND</th>\n",
       "      <th>PEDESTRIAN</th>\n",
       "      <th>CYCLIST</th>\n",
       "      <th>AUTOMOBILE</th>\n",
       "      <th>MOTORCYCLE</th>\n",
       "      <th>TRUCK</th>\n",
       "      <th>TRSN_CITY_VEH</th>\n",
       "      <th>EMERG_VEH</th>\n",
       "      <th>PASSENGER</th>\n",
       "      <th>SPEEDING</th>\n",
       "      <th>AG_DRIV</th>\n",
       "      <th>REDLIGHT</th>\n",
       "      <th>ALCOHOL</th>\n",
       "      <th>DISABILITY</th>\n",
       "      <th>FATAL</th>\n",
       "    </tr>\n",
       "  </thead>\n",
       "  <tbody>\n",
       "    <tr>\n",
       "      <th>12554</th>\n",
       "      <td>1291534</td>\n",
       "      <td>2012</td>\n",
       "      <td>3</td>\n",
       "      <td>2</td>\n",
       "      <td>18</td>\n",
       "      <td>12</td>\n",
       "      <td>4</td>\n",
       "      <td>43.663245</td>\n",
       "      <td>-79.36759</td>\n",
       "      <td>Toronto Centre-Rosedale (28)</td>\n",
       "      <td>28</td>\n",
       "      <td>Moss Park (73)</td>\n",
       "      <td>73</td>\n",
       "      <td>D51</td>\n",
       "      <td>Toronto East York</td>\n",
       "      <td>PARLIAMENT ST</td>\n",
       "      <td>SPRUCE ST</td>\n",
       "      <td></td>\n",
       "      <td>Minor Arterial</td>\n",
       "      <td>Intersection</td>\n",
       "      <td></td>\n",
       "      <td>No Control</td>\n",
       "      <td>Clear</td>\n",
       "      <td>Daylight</td>\n",
       "      <td>Dry</td>\n",
       "      <td>Non-Fatal Injury</td>\n",
       "      <td>Pedestrian Collisions</td>\n",
       "      <td>Pedestrian</td>\n",
       "      <td>30 to 34</td>\n",
       "      <td>Minimal</td>\n",
       "      <td>0</td>\n",
       "      <td>East</td>\n",
       "      <td>Other</td>\n",
       "      <td></td>\n",
       "      <td></td>\n",
       "      <td></td>\n",
       "      <td>Pedestrian hit at mid-block</td>\n",
       "      <td>Walking on Roadway with Traffic</td>\n",
       "      <td>Normal</td>\n",
       "      <td></td>\n",
       "      <td></td>\n",
       "      <td></td>\n",
       "      <td>1</td>\n",
       "      <td>0</td>\n",
       "      <td>0</td>\n",
       "      <td>1</td>\n",
       "      <td>0</td>\n",
       "      <td>0</td>\n",
       "      <td>0</td>\n",
       "      <td>0</td>\n",
       "      <td>1</td>\n",
       "      <td>1</td>\n",
       "      <td>0</td>\n",
       "      <td>0</td>\n",
       "      <td>0</td>\n",
       "      <td>0</td>\n",
       "    </tr>\n",
       "    <tr>\n",
       "      <th>12555</th>\n",
       "      <td>6001157650</td>\n",
       "      <td>2016</td>\n",
       "      <td>7</td>\n",
       "      <td>2</td>\n",
       "      <td>18</td>\n",
       "      <td>12</td>\n",
       "      <td>5</td>\n",
       "      <td>43.645874</td>\n",
       "      <td>-79.36343</td>\n",
       "      <td>Toronto Centre-Rosedale (28)</td>\n",
       "      <td>28</td>\n",
       "      <td>Waterfront Communities-The Island (77)</td>\n",
       "      <td>77</td>\n",
       "      <td>D51</td>\n",
       "      <td>Toronto East York</td>\n",
       "      <td>QUEENS QUAY E</td>\n",
       "      <td>BONNYCASTLE ST</td>\n",
       "      <td>65.6 M E of</td>\n",
       "      <td>Minor Arterial</td>\n",
       "      <td>Mid-Block</td>\n",
       "      <td>Non Intersection</td>\n",
       "      <td>No Control</td>\n",
       "      <td>Clear</td>\n",
       "      <td>Daylight</td>\n",
       "      <td>Dry</td>\n",
       "      <td>Fatal</td>\n",
       "      <td>SMV Other</td>\n",
       "      <td>Passenger</td>\n",
       "      <td>35 to 39</td>\n",
       "      <td>Fatal</td>\n",
       "      <td>45</td>\n",
       "      <td></td>\n",
       "      <td></td>\n",
       "      <td></td>\n",
       "      <td></td>\n",
       "      <td></td>\n",
       "      <td></td>\n",
       "      <td></td>\n",
       "      <td></td>\n",
       "      <td></td>\n",
       "      <td></td>\n",
       "      <td></td>\n",
       "      <td>0</td>\n",
       "      <td>0</td>\n",
       "      <td>1</td>\n",
       "      <td>0</td>\n",
       "      <td>0</td>\n",
       "      <td>0</td>\n",
       "      <td>0</td>\n",
       "      <td>1</td>\n",
       "      <td>1</td>\n",
       "      <td>1</td>\n",
       "      <td>0</td>\n",
       "      <td>0</td>\n",
       "      <td>0</td>\n",
       "      <td>1</td>\n",
       "    </tr>\n",
       "    <tr>\n",
       "      <th>12556</th>\n",
       "      <td>6001157650</td>\n",
       "      <td>2016</td>\n",
       "      <td>7</td>\n",
       "      <td>2</td>\n",
       "      <td>18</td>\n",
       "      <td>12</td>\n",
       "      <td>5</td>\n",
       "      <td>43.645874</td>\n",
       "      <td>-79.36343</td>\n",
       "      <td>Toronto Centre-Rosedale (28)</td>\n",
       "      <td>28</td>\n",
       "      <td>Waterfront Communities-The Island (77)</td>\n",
       "      <td>77</td>\n",
       "      <td>D51</td>\n",
       "      <td>Toronto East York</td>\n",
       "      <td>QUEENS QUAY E</td>\n",
       "      <td>BONNYCASTLE ST</td>\n",
       "      <td>65.6 M E of</td>\n",
       "      <td>Minor Arterial</td>\n",
       "      <td>Mid-Block</td>\n",
       "      <td>Non Intersection</td>\n",
       "      <td>No Control</td>\n",
       "      <td>Clear</td>\n",
       "      <td>Daylight</td>\n",
       "      <td>Dry</td>\n",
       "      <td>Fatal</td>\n",
       "      <td>SMV Other</td>\n",
       "      <td>Driver</td>\n",
       "      <td>30 to 34</td>\n",
       "      <td>Major</td>\n",
       "      <td>0</td>\n",
       "      <td>East</td>\n",
       "      <td>Automobile, Station Wagon</td>\n",
       "      <td>Going Ahead</td>\n",
       "      <td>Exceeding Speed Limit</td>\n",
       "      <td>Inattentive</td>\n",
       "      <td></td>\n",
       "      <td></td>\n",
       "      <td></td>\n",
       "      <td></td>\n",
       "      <td></td>\n",
       "      <td></td>\n",
       "      <td>0</td>\n",
       "      <td>0</td>\n",
       "      <td>1</td>\n",
       "      <td>0</td>\n",
       "      <td>0</td>\n",
       "      <td>0</td>\n",
       "      <td>0</td>\n",
       "      <td>1</td>\n",
       "      <td>1</td>\n",
       "      <td>1</td>\n",
       "      <td>0</td>\n",
       "      <td>0</td>\n",
       "      <td>0</td>\n",
       "      <td>1</td>\n",
       "    </tr>\n",
       "  </tbody>\n",
       "</table>\n",
       "</div>"
      ],
      "text/plain": [
       "           ACCNUM  YEAR  MONTH  DAY  ...    REDLIGHT  ALCOHOL  DISABILITY  FATAL\n",
       "12554     1291534  2012      3    2  ...           0        0           0      0\n",
       "12555  6001157650  2016      7    2  ...           0        0           0      1\n",
       "12556  6001157650  2016      7    2  ...           0        0           0      1\n",
       "\n",
       "[3 rows x 56 columns]"
      ]
     },
     "execution_count": 23,
     "metadata": {},
     "output_type": "execute_result"
    }
   ],
   "source": [
    "df_ksi.tail(3)"
   ]
  },
  {
   "cell_type": "markdown",
   "metadata": {
    "_uuid": "8a47df53f630c63cad49a5e7fb9f40867c232216"
   },
   "source": [
    "## Data Cleaning"
   ]
  },
  {
   "cell_type": "code",
   "execution_count": 24,
   "metadata": {
    "_uuid": "6121930c014e2fea2b7af2ea1ed40dc212d4484f"
   },
   "outputs": [
    {
     "name": "stdout",
     "output_type": "stream",
     "text": [
      "KSI number of rows:  12557\n",
      "KSI number of rows:  12545\n"
     ]
    }
   ],
   "source": [
    "# Remove incidents which are listed as property damage\n",
    "# in order to keep only Fatal and Non-Fatal injuries\n",
    "\n",
    "print(\"KSI number of rows: \", len(df_ksi))\n",
    "\n",
    "df_ksi = df_ksi[df_ksi['ACCLASS'] != 'Property Damage Only']\n",
    "\n",
    "print(\"KSI number of rows: \", len(df_ksi))"
   ]
  },
  {
   "cell_type": "code",
   "execution_count": 25,
   "metadata": {
    "_uuid": "634c22a9af7f35624571540b618e33da1935b188",
    "scrolled": false
   },
   "outputs": [
    {
     "data": {
      "text/html": [
       "<div>\n",
       "<style scoped>\n",
       "    .dataframe tbody tr th:only-of-type {\n",
       "        vertical-align: middle;\n",
       "    }\n",
       "\n",
       "    .dataframe tbody tr th {\n",
       "        vertical-align: top;\n",
       "    }\n",
       "\n",
       "    .dataframe thead th {\n",
       "        text-align: right;\n",
       "    }\n",
       "</style>\n",
       "<table border=\"1\" class=\"dataframe\">\n",
       "  <thead>\n",
       "    <tr style=\"text-align: right;\">\n",
       "      <th></th>\n",
       "      <th>ACCNUM</th>\n",
       "      <th>YEAR</th>\n",
       "      <th>MONTH</th>\n",
       "      <th>DAY</th>\n",
       "      <th>HOUR</th>\n",
       "      <th>MINUTES</th>\n",
       "      <th>WEEKDAY</th>\n",
       "      <th>LATITUDE</th>\n",
       "      <th>LONGITUDE</th>\n",
       "      <th>Ward_Name</th>\n",
       "      <th>Ward_ID</th>\n",
       "      <th>Hood_Name</th>\n",
       "      <th>Hood_ID</th>\n",
       "      <th>Division</th>\n",
       "      <th>District</th>\n",
       "      <th>STREET1</th>\n",
       "      <th>STREET2</th>\n",
       "      <th>OFFSET</th>\n",
       "      <th>ROAD_CLASS</th>\n",
       "      <th>LOCCOORD</th>\n",
       "      <th>ACCLOC</th>\n",
       "      <th>TRAFFCTL</th>\n",
       "      <th>VISIBILITY</th>\n",
       "      <th>LIGHT</th>\n",
       "      <th>RDSFCOND</th>\n",
       "      <th>ACCLASS</th>\n",
       "      <th>IMPACTYPE</th>\n",
       "      <th>INVTYPE</th>\n",
       "      <th>INVAGE</th>\n",
       "      <th>INJURY</th>\n",
       "      <th>FATAL_NO</th>\n",
       "      <th>INITDIR</th>\n",
       "      <th>VEHTYPE</th>\n",
       "      <th>MANOEUVER</th>\n",
       "      <th>DRIVACT</th>\n",
       "      <th>DRIVCOND</th>\n",
       "      <th>PEDTYPE</th>\n",
       "      <th>PEDACT</th>\n",
       "      <th>PEDCOND</th>\n",
       "      <th>CYCLISTYPE</th>\n",
       "      <th>CYCACT</th>\n",
       "      <th>CYCCOND</th>\n",
       "      <th>PEDESTRIAN</th>\n",
       "      <th>CYCLIST</th>\n",
       "      <th>AUTOMOBILE</th>\n",
       "      <th>MOTORCYCLE</th>\n",
       "      <th>TRUCK</th>\n",
       "      <th>TRSN_CITY_VEH</th>\n",
       "      <th>EMERG_VEH</th>\n",
       "      <th>PASSENGER</th>\n",
       "      <th>SPEEDING</th>\n",
       "      <th>AG_DRIV</th>\n",
       "      <th>REDLIGHT</th>\n",
       "      <th>ALCOHOL</th>\n",
       "      <th>DISABILITY</th>\n",
       "      <th>FATAL</th>\n",
       "    </tr>\n",
       "  </thead>\n",
       "  <tbody>\n",
       "    <tr>\n",
       "      <th>4983</th>\n",
       "      <td>1300266</td>\n",
       "      <td>2012</td>\n",
       "      <td>4</td>\n",
       "      <td>28</td>\n",
       "      <td>13</td>\n",
       "      <td>52</td>\n",
       "      <td>5</td>\n",
       "      <td>43.657045</td>\n",
       "      <td>-79.37459</td>\n",
       "      <td>Toronto Centre-Rosedale (27)</td>\n",
       "      <td>27</td>\n",
       "      <td>Church-Yonge Corridor (75)</td>\n",
       "      <td>75</td>\n",
       "      <td>D51</td>\n",
       "      <td>Toronto East York</td>\n",
       "      <td>JARVIS ST</td>\n",
       "      <td>DUNDAS ST E</td>\n",
       "      <td></td>\n",
       "      <td>Major Arterial</td>\n",
       "      <td>Intersection</td>\n",
       "      <td>At Intersection</td>\n",
       "      <td>Traffic Signal</td>\n",
       "      <td>Clear</td>\n",
       "      <td>Daylight</td>\n",
       "      <td>Dry</td>\n",
       "      <td>Non-Fatal Injury</td>\n",
       "      <td>Pedestrian Collisions</td>\n",
       "      <td>Driver</td>\n",
       "      <td>35 to 39</td>\n",
       "      <td>None</td>\n",
       "      <td>0</td>\n",
       "      <td>South</td>\n",
       "      <td>Automobile, Station Wagon</td>\n",
       "      <td>Going Ahead</td>\n",
       "      <td>Driving Properly</td>\n",
       "      <td>Normal</td>\n",
       "      <td></td>\n",
       "      <td></td>\n",
       "      <td></td>\n",
       "      <td></td>\n",
       "      <td></td>\n",
       "      <td></td>\n",
       "      <td>1</td>\n",
       "      <td>0</td>\n",
       "      <td>1</td>\n",
       "      <td>0</td>\n",
       "      <td>0</td>\n",
       "      <td>0</td>\n",
       "      <td>0</td>\n",
       "      <td>0</td>\n",
       "      <td>0</td>\n",
       "      <td>0</td>\n",
       "      <td>0</td>\n",
       "      <td>0</td>\n",
       "      <td>0</td>\n",
       "      <td>0</td>\n",
       "    </tr>\n",
       "    <tr>\n",
       "      <th>2244</th>\n",
       "      <td>1260139</td>\n",
       "      <td>2011</td>\n",
       "      <td>8</td>\n",
       "      <td>23</td>\n",
       "      <td>10</td>\n",
       "      <td>50</td>\n",
       "      <td>1</td>\n",
       "      <td>43.772145</td>\n",
       "      <td>-79.25149</td>\n",
       "      <td>Scarborough Centre (38)</td>\n",
       "      <td>38</td>\n",
       "      <td>Woburn (137)</td>\n",
       "      <td>137</td>\n",
       "      <td>D43</td>\n",
       "      <td>Scarborough</td>\n",
       "      <td>ELLESMERE RD</td>\n",
       "      <td>MCCOWAN RD</td>\n",
       "      <td></td>\n",
       "      <td>Major Arterial</td>\n",
       "      <td>Intersection</td>\n",
       "      <td>At Intersection</td>\n",
       "      <td>Traffic Signal</td>\n",
       "      <td>Clear</td>\n",
       "      <td>Daylight</td>\n",
       "      <td>Dry</td>\n",
       "      <td>Non-Fatal Injury</td>\n",
       "      <td>Angle</td>\n",
       "      <td>Driver</td>\n",
       "      <td>60 to 64</td>\n",
       "      <td>Minimal</td>\n",
       "      <td>0</td>\n",
       "      <td>East</td>\n",
       "      <td>Automobile, Station Wagon</td>\n",
       "      <td>Going Ahead</td>\n",
       "      <td>Driving Properly</td>\n",
       "      <td>Normal</td>\n",
       "      <td></td>\n",
       "      <td></td>\n",
       "      <td></td>\n",
       "      <td></td>\n",
       "      <td></td>\n",
       "      <td></td>\n",
       "      <td>0</td>\n",
       "      <td>0</td>\n",
       "      <td>1</td>\n",
       "      <td>0</td>\n",
       "      <td>0</td>\n",
       "      <td>0</td>\n",
       "      <td>0</td>\n",
       "      <td>1</td>\n",
       "      <td>0</td>\n",
       "      <td>1</td>\n",
       "      <td>1</td>\n",
       "      <td>0</td>\n",
       "      <td>1</td>\n",
       "      <td>0</td>\n",
       "    </tr>\n",
       "    <tr>\n",
       "      <th>1637</th>\n",
       "      <td>1190299</td>\n",
       "      <td>2010</td>\n",
       "      <td>9</td>\n",
       "      <td>20</td>\n",
       "      <td>10</td>\n",
       "      <td>8</td>\n",
       "      <td>0</td>\n",
       "      <td>43.789145</td>\n",
       "      <td>-79.37329</td>\n",
       "      <td>Don Valley East (33)</td>\n",
       "      <td>33</td>\n",
       "      <td>Bayview Village (52)</td>\n",
       "      <td>52</td>\n",
       "      <td>D33</td>\n",
       "      <td>North York</td>\n",
       "      <td>PINEWAY BLVD</td>\n",
       "      <td>FINCH AVE E</td>\n",
       "      <td></td>\n",
       "      <td>Major Arterial</td>\n",
       "      <td>Intersection</td>\n",
       "      <td>At Intersection</td>\n",
       "      <td>Traffic Signal</td>\n",
       "      <td>Clear</td>\n",
       "      <td>Daylight</td>\n",
       "      <td>Dry</td>\n",
       "      <td>Non-Fatal Injury</td>\n",
       "      <td>Pedestrian Collisions</td>\n",
       "      <td>Driver</td>\n",
       "      <td>30 to 34</td>\n",
       "      <td>None</td>\n",
       "      <td>0</td>\n",
       "      <td>South</td>\n",
       "      <td>Automobile, Station Wagon</td>\n",
       "      <td>Turning Left</td>\n",
       "      <td>Failed to Yield Right of Way</td>\n",
       "      <td>Normal</td>\n",
       "      <td></td>\n",
       "      <td></td>\n",
       "      <td></td>\n",
       "      <td></td>\n",
       "      <td></td>\n",
       "      <td></td>\n",
       "      <td>1</td>\n",
       "      <td>0</td>\n",
       "      <td>1</td>\n",
       "      <td>0</td>\n",
       "      <td>0</td>\n",
       "      <td>0</td>\n",
       "      <td>0</td>\n",
       "      <td>0</td>\n",
       "      <td>0</td>\n",
       "      <td>1</td>\n",
       "      <td>0</td>\n",
       "      <td>0</td>\n",
       "      <td>0</td>\n",
       "      <td>0</td>\n",
       "    </tr>\n",
       "  </tbody>\n",
       "</table>\n",
       "</div>"
      ],
      "text/plain": [
       "       ACCNUM  YEAR  MONTH  DAY  ...    REDLIGHT  ALCOHOL  DISABILITY  FATAL\n",
       "4983  1300266  2012      4   28  ...           0        0           0      0\n",
       "2244  1260139  2011      8   23  ...           1        0           1      0\n",
       "1637  1190299  2010      9   20  ...           0        0           0      0\n",
       "\n",
       "[3 rows x 56 columns]"
      ]
     },
     "execution_count": 25,
     "metadata": {},
     "output_type": "execute_result"
    }
   ],
   "source": [
    "df_ksi.sample(3)"
   ]
  },
  {
   "cell_type": "markdown",
   "metadata": {
    "_uuid": "5bf94c405f0a499edc166c3e1cb44a45bee71b7e"
   },
   "source": [
    "## Plotting Numerical Data"
   ]
  },
  {
   "cell_type": "code",
   "execution_count": 26,
   "metadata": {
    "_uuid": "d54848f75e779733665e607914abdbcf05e822da"
   },
   "outputs": [
    {
     "name": "stdout",
     "output_type": "stream",
     "text": [
      "Numerical Attributes: \n",
      " ['YEAR', 'MONTH', 'DAY', 'HOUR', 'MINUTES', 'WEEKDAY', 'LATITUDE', 'LONGITUDE', 'PEDESTRIAN', 'CYCLIST', 'AUTOMOBILE', 'MOTORCYCLE', 'TRUCK', 'TRSN_CITY_VEH', 'EMERG_VEH', 'PASSENGER', 'SPEEDING', 'AG_DRIV', 'REDLIGHT', 'ALCOHOL', 'DISABILITY', 'FATAL']\n"
     ]
    }
   ],
   "source": [
    "print(\"Numerical Attributes: \\n\", str(ksi_numerical))"
   ]
  },
  {
   "cell_type": "code",
   "execution_count": 27,
   "metadata": {
    "_uuid": "af231dcf4b1653f856186261088e776fc12d3851"
   },
   "outputs": [
    {
     "data": {
      "image/png": "[encoded data removed]",
      "text/plain": [
       "<Figure size 864x432 with 1 Axes>"
      ]
     },
     "metadata": {},
     "output_type": "display_data"
    }
   ],
   "source": [
    "# Learning Exercise\n",
    "# Try changing the attribute with another numerical attribute listed above:\n",
    "attribute = 'YEAR'\n",
    "\n",
    "plt.figure(figsize=(12,6))\n",
    "data = df_ksi[attribute].value_counts().sort_index()\n",
    "data.plot(kind='bar')\n",
    "plt.show()"
   ]
  },
  {
   "cell_type": "markdown",
   "metadata": {
    "_uuid": "354e83f28ce6b1310e15ec2667bd78a00e1e718b"
   },
   "source": [
    "## Plotting Categorical data"
   ]
  },
  {
   "cell_type": "code",
   "execution_count": 28,
   "metadata": {
    "_uuid": "4332b78edeeafcade4320df566e1da158f191084"
   },
   "outputs": [
    {
     "name": "stdout",
     "output_type": "stream",
     "text": [
      "Categorical Attributes: \n",
      " ['Ward_Name', 'Ward_ID', 'Hood_Name', 'Hood_ID', 'Division', 'District', 'STREET1', 'STREET2', 'OFFSET', 'ROAD_CLASS', 'LOCCOORD', 'ACCLOC', 'TRAFFCTL', 'VISIBILITY', 'LIGHT', 'RDSFCOND', 'ACCLASS', 'IMPACTYPE', 'INVTYPE', 'INVAGE', 'INJURY', 'INITDIR', 'VEHTYPE', 'MANOEUVER', 'DRIVACT', 'DRIVCOND', 'PEDTYPE', 'PEDACT', 'PEDCOND', 'CYCLISTYPE', 'CYCACT', 'CYCCOND']\n"
     ]
    }
   ],
   "source": [
    "print(\"Categorical Attributes: \\n\", str(ksi_categorical))"
   ]
  },
  {
   "cell_type": "code",
   "execution_count": 29,
   "metadata": {
    "_uuid": "5df1dee9966e4e294ad7467367951097ab975b26"
   },
   "outputs": [
    {
     "data": {
      "image/png": "[encoded data removed]",
      "text/plain": [
       "<Figure size 864x432 with 1 Axes>"
      ]
     },
     "metadata": {},
     "output_type": "display_data"
    }
   ],
   "source": [
    "# Learning Exercise\n",
    "# Try changing the attribute with another categorical attribute listed above:\n",
    "# INVAGE is \"Age of Involved Party\"\n",
    "attribute = 'INVAGE'\n",
    "\n",
    "plt.figure(figsize=(12,6))\n",
    "data = df_ksi[attribute].value_counts()\n",
    "data.plot(kind='bar')\n",
    "plt.show()"
   ]
  },
  {
   "cell_type": "markdown",
   "metadata": {
    "_uuid": "f01ca337018a3c1c39319cd54cf2bf82ce775e9b"
   },
   "source": [
    "## Working with Aggregrate Statistics"
   ]
  },
  {
   "cell_type": "code",
   "execution_count": 30,
   "metadata": {
    "_uuid": "ab546098d1ddbf87324537cd8af99c676eaf207a"
   },
   "outputs": [
    {
     "name": "stdout",
     "output_type": "stream",
     "text": [
      "['PEDESTRIAN', 'CYCLIST', 'AUTOMOBILE', 'MOTORCYCLE', 'TRUCK', 'TRSN_CITY_VEH', 'EMERG_VEH', 'PASSENGER', 'SPEEDING', 'AG_DRIV', 'REDLIGHT', 'ALCOHOL', 'DISABILITY', 'FATAL']\n"
     ]
    }
   ],
   "source": [
    "print(ksi_boolean)"
   ]
  },
  {
   "cell_type": "code",
   "execution_count": 31,
   "metadata": {
    "_uuid": "6b20f662b480c6e696e540a3885311618b2b0bbd"
   },
   "outputs": [
    {
     "name": "stdout",
     "output_type": "stream",
     "text": [
      "Percentage of incidents that involve AUTOMOBILE = 0.9055400557991231\n"
     ]
    }
   ],
   "source": [
    "# Learning Exercise\n",
    "# Change the attribute below to calculate what percentage of incidents\n",
    "# reported th involvemnt of possible items listed above\n",
    "attribute = 'AUTOMOBILE'\n",
    "\n",
    "print(\"Percentage of incidents that involve\", attribute, \"=\", df_ksi[attribute].sum() / df_ksi[attribute].count())"
   ]
  },
  {
   "cell_type": "code",
   "execution_count": 32,
   "metadata": {
    "_uuid": "29dbe0b43139bcc6eb9243d482ac136b8f38a1a5"
   },
   "outputs": [
    {
     "data": {
      "text/html": [
       "<div>\n",
       "<style scoped>\n",
       "    .dataframe tbody tr th:only-of-type {\n",
       "        vertical-align: middle;\n",
       "    }\n",
       "\n",
       "    .dataframe tbody tr th {\n",
       "        vertical-align: top;\n",
       "    }\n",
       "\n",
       "    .dataframe thead th {\n",
       "        text-align: right;\n",
       "    }\n",
       "</style>\n",
       "<table border=\"1\" class=\"dataframe\">\n",
       "  <thead>\n",
       "    <tr style=\"text-align: right;\">\n",
       "      <th></th>\n",
       "      <th>ACCNUM</th>\n",
       "      <th>YEAR</th>\n",
       "      <th>MONTH</th>\n",
       "      <th>DAY</th>\n",
       "      <th>HOUR</th>\n",
       "      <th>MINUTES</th>\n",
       "      <th>WEEKDAY</th>\n",
       "      <th>LATITUDE</th>\n",
       "      <th>LONGITUDE</th>\n",
       "      <th>Ward_ID</th>\n",
       "      <th>Hood_ID</th>\n",
       "      <th>FATAL_NO</th>\n",
       "      <th>PEDESTRIAN</th>\n",
       "      <th>CYCLIST</th>\n",
       "      <th>AUTOMOBILE</th>\n",
       "      <th>MOTORCYCLE</th>\n",
       "      <th>TRUCK</th>\n",
       "      <th>TRSN_CITY_VEH</th>\n",
       "      <th>EMERG_VEH</th>\n",
       "      <th>PASSENGER</th>\n",
       "      <th>SPEEDING</th>\n",
       "      <th>AG_DRIV</th>\n",
       "      <th>REDLIGHT</th>\n",
       "      <th>ALCOHOL</th>\n",
       "      <th>DISABILITY</th>\n",
       "      <th>FATAL</th>\n",
       "    </tr>\n",
       "  </thead>\n",
       "  <tbody>\n",
       "    <tr>\n",
       "      <th>count</th>\n",
       "      <td>1.254500e+04</td>\n",
       "      <td>12545.000000</td>\n",
       "      <td>12545.000000</td>\n",
       "      <td>12545.000000</td>\n",
       "      <td>12545.000000</td>\n",
       "      <td>12545.000000</td>\n",
       "      <td>12545.000000</td>\n",
       "      <td>12545.000000</td>\n",
       "      <td>12545.000000</td>\n",
       "      <td>12545.000000</td>\n",
       "      <td>12545.000000</td>\n",
       "      <td>12545.000000</td>\n",
       "      <td>12545.000000</td>\n",
       "      <td>12545.000000</td>\n",
       "      <td>12545.000000</td>\n",
       "      <td>12545.000000</td>\n",
       "      <td>12545.000000</td>\n",
       "      <td>12545.000000</td>\n",
       "      <td>12545.000000</td>\n",
       "      <td>12545.000000</td>\n",
       "      <td>12545.000000</td>\n",
       "      <td>12545.000000</td>\n",
       "      <td>12545.000000</td>\n",
       "      <td>12545.000000</td>\n",
       "      <td>12545.000000</td>\n",
       "      <td>12545.000000</td>\n",
       "    </tr>\n",
       "    <tr>\n",
       "      <th>mean</th>\n",
       "      <td>1.571897e+09</td>\n",
       "      <td>2011.542925</td>\n",
       "      <td>6.764368</td>\n",
       "      <td>15.650379</td>\n",
       "      <td>13.176644</td>\n",
       "      <td>28.239697</td>\n",
       "      <td>2.985492</td>\n",
       "      <td>43.710713</td>\n",
       "      <td>-79.396035</td>\n",
       "      <td>22.562535</td>\n",
       "      <td>73.591152</td>\n",
       "      <td>1.253567</td>\n",
       "      <td>0.398565</td>\n",
       "      <td>0.107214</td>\n",
       "      <td>0.905540</td>\n",
       "      <td>0.078119</td>\n",
       "      <td>0.063452</td>\n",
       "      <td>0.064966</td>\n",
       "      <td>0.001196</td>\n",
       "      <td>0.368912</td>\n",
       "      <td>0.174173</td>\n",
       "      <td>0.510881</td>\n",
       "      <td>0.084018</td>\n",
       "      <td>0.043204</td>\n",
       "      <td>0.028378</td>\n",
       "      <td>0.136788</td>\n",
       "    </tr>\n",
       "    <tr>\n",
       "      <th>std</th>\n",
       "      <td>2.537308e+09</td>\n",
       "      <td>3.101559</td>\n",
       "      <td>3.278275</td>\n",
       "      <td>8.861860</td>\n",
       "      <td>6.236238</td>\n",
       "      <td>17.518918</td>\n",
       "      <td>1.964151</td>\n",
       "      <td>0.056015</td>\n",
       "      <td>0.104202</td>\n",
       "      <td>12.531908</td>\n",
       "      <td>41.331108</td>\n",
       "      <td>6.963029</td>\n",
       "      <td>0.489622</td>\n",
       "      <td>0.309397</td>\n",
       "      <td>0.292479</td>\n",
       "      <td>0.268369</td>\n",
       "      <td>0.243783</td>\n",
       "      <td>0.246476</td>\n",
       "      <td>0.034560</td>\n",
       "      <td>0.482529</td>\n",
       "      <td>0.379273</td>\n",
       "      <td>0.499902</td>\n",
       "      <td>0.277425</td>\n",
       "      <td>0.203325</td>\n",
       "      <td>0.166056</td>\n",
       "      <td>0.343637</td>\n",
       "    </tr>\n",
       "    <tr>\n",
       "      <th>min</th>\n",
       "      <td>1.284070e+05</td>\n",
       "      <td>2007.000000</td>\n",
       "      <td>1.000000</td>\n",
       "      <td>1.000000</td>\n",
       "      <td>0.000000</td>\n",
       "      <td>0.000000</td>\n",
       "      <td>0.000000</td>\n",
       "      <td>43.592048</td>\n",
       "      <td>-79.638390</td>\n",
       "      <td>1.000000</td>\n",
       "      <td>1.000000</td>\n",
       "      <td>0.000000</td>\n",
       "      <td>0.000000</td>\n",
       "      <td>0.000000</td>\n",
       "      <td>0.000000</td>\n",
       "      <td>0.000000</td>\n",
       "      <td>0.000000</td>\n",
       "      <td>0.000000</td>\n",
       "      <td>0.000000</td>\n",
       "      <td>0.000000</td>\n",
       "      <td>0.000000</td>\n",
       "      <td>0.000000</td>\n",
       "      <td>0.000000</td>\n",
       "      <td>0.000000</td>\n",
       "      <td>0.000000</td>\n",
       "      <td>0.000000</td>\n",
       "    </tr>\n",
       "    <tr>\n",
       "      <th>25%</th>\n",
       "      <td>1.108205e+06</td>\n",
       "      <td>2009.000000</td>\n",
       "      <td>4.000000</td>\n",
       "      <td>8.000000</td>\n",
       "      <td>9.000000</td>\n",
       "      <td>13.000000</td>\n",
       "      <td>1.000000</td>\n",
       "      <td>43.662645</td>\n",
       "      <td>-79.467434</td>\n",
       "      <td>12.000000</td>\n",
       "      <td>38.000000</td>\n",
       "      <td>0.000000</td>\n",
       "      <td>0.000000</td>\n",
       "      <td>0.000000</td>\n",
       "      <td>1.000000</td>\n",
       "      <td>0.000000</td>\n",
       "      <td>0.000000</td>\n",
       "      <td>0.000000</td>\n",
       "      <td>0.000000</td>\n",
       "      <td>0.000000</td>\n",
       "      <td>0.000000</td>\n",
       "      <td>0.000000</td>\n",
       "      <td>0.000000</td>\n",
       "      <td>0.000000</td>\n",
       "      <td>0.000000</td>\n",
       "      <td>0.000000</td>\n",
       "    </tr>\n",
       "    <tr>\n",
       "      <th>50%</th>\n",
       "      <td>1.275736e+06</td>\n",
       "      <td>2011.000000</td>\n",
       "      <td>7.000000</td>\n",
       "      <td>16.000000</td>\n",
       "      <td>14.000000</td>\n",
       "      <td>30.000000</td>\n",
       "      <td>3.000000</td>\n",
       "      <td>43.702345</td>\n",
       "      <td>-79.396450</td>\n",
       "      <td>23.000000</td>\n",
       "      <td>77.000000</td>\n",
       "      <td>0.000000</td>\n",
       "      <td>0.000000</td>\n",
       "      <td>0.000000</td>\n",
       "      <td>1.000000</td>\n",
       "      <td>0.000000</td>\n",
       "      <td>0.000000</td>\n",
       "      <td>0.000000</td>\n",
       "      <td>0.000000</td>\n",
       "      <td>0.000000</td>\n",
       "      <td>0.000000</td>\n",
       "      <td>1.000000</td>\n",
       "      <td>0.000000</td>\n",
       "      <td>0.000000</td>\n",
       "      <td>0.000000</td>\n",
       "      <td>0.000000</td>\n",
       "    </tr>\n",
       "    <tr>\n",
       "      <th>75%</th>\n",
       "      <td>4.002339e+09</td>\n",
       "      <td>2014.000000</td>\n",
       "      <td>10.000000</td>\n",
       "      <td>23.000000</td>\n",
       "      <td>18.000000</td>\n",
       "      <td>44.000000</td>\n",
       "      <td>5.000000</td>\n",
       "      <td>43.755992</td>\n",
       "      <td>-79.318090</td>\n",
       "      <td>34.000000</td>\n",
       "      <td>111.000000</td>\n",
       "      <td>0.000000</td>\n",
       "      <td>1.000000</td>\n",
       "      <td>0.000000</td>\n",
       "      <td>1.000000</td>\n",
       "      <td>0.000000</td>\n",
       "      <td>0.000000</td>\n",
       "      <td>0.000000</td>\n",
       "      <td>0.000000</td>\n",
       "      <td>1.000000</td>\n",
       "      <td>0.000000</td>\n",
       "      <td>1.000000</td>\n",
       "      <td>0.000000</td>\n",
       "      <td>0.000000</td>\n",
       "      <td>0.000000</td>\n",
       "      <td>0.000000</td>\n",
       "    </tr>\n",
       "    <tr>\n",
       "      <th>max</th>\n",
       "      <td>7.003292e+09</td>\n",
       "      <td>2017.000000</td>\n",
       "      <td>12.000000</td>\n",
       "      <td>31.000000</td>\n",
       "      <td>23.000000</td>\n",
       "      <td>59.000000</td>\n",
       "      <td>6.000000</td>\n",
       "      <td>43.855445</td>\n",
       "      <td>-79.125897</td>\n",
       "      <td>44.000000</td>\n",
       "      <td>140.000000</td>\n",
       "      <td>77.000000</td>\n",
       "      <td>1.000000</td>\n",
       "      <td>1.000000</td>\n",
       "      <td>1.000000</td>\n",
       "      <td>1.000000</td>\n",
       "      <td>1.000000</td>\n",
       "      <td>1.000000</td>\n",
       "      <td>1.000000</td>\n",
       "      <td>1.000000</td>\n",
       "      <td>1.000000</td>\n",
       "      <td>1.000000</td>\n",
       "      <td>1.000000</td>\n",
       "      <td>1.000000</td>\n",
       "      <td>1.000000</td>\n",
       "      <td>1.000000</td>\n",
       "    </tr>\n",
       "  </tbody>\n",
       "</table>\n",
       "</div>"
      ],
      "text/plain": [
       "             ACCNUM          YEAR      ...         DISABILITY         FATAL\n",
       "count  1.254500e+04  12545.000000      ...       12545.000000  12545.000000\n",
       "mean   1.571897e+09   2011.542925      ...           0.028378      0.136788\n",
       "std    2.537308e+09      3.101559      ...           0.166056      0.343637\n",
       "min    1.284070e+05   2007.000000      ...           0.000000      0.000000\n",
       "25%    1.108205e+06   2009.000000      ...           0.000000      0.000000\n",
       "50%    1.275736e+06   2011.000000      ...           0.000000      0.000000\n",
       "75%    4.002339e+09   2014.000000      ...           0.000000      0.000000\n",
       "max    7.003292e+09   2017.000000      ...           1.000000      1.000000\n",
       "\n",
       "[8 rows x 26 columns]"
      ]
     },
     "execution_count": 32,
     "metadata": {},
     "output_type": "execute_result"
    }
   ],
   "source": [
    "# Summary statistics, for simplicity\n",
    "# we run it over all attributes,\n",
    "# but they only make sense for numeric\n",
    "df_ksi.describe()"
   ]
  },
  {
   "cell_type": "code",
   "execution_count": 33,
   "metadata": {
    "_uuid": "b640a0f03bd0278f988be4129de0b654a6d7b7ed",
    "scrolled": true
   },
   "outputs": [
    {
     "data": {
      "text/html": [
       "<div>\n",
       "<style scoped>\n",
       "    .dataframe tbody tr th:only-of-type {\n",
       "        vertical-align: middle;\n",
       "    }\n",
       "\n",
       "    .dataframe tbody tr th {\n",
       "        vertical-align: top;\n",
       "    }\n",
       "\n",
       "    .dataframe thead th {\n",
       "        text-align: right;\n",
       "    }\n",
       "</style>\n",
       "<table border=\"1\" class=\"dataframe\">\n",
       "  <thead>\n",
       "    <tr style=\"text-align: right;\">\n",
       "      <th></th>\n",
       "      <th>YEAR</th>\n",
       "      <th>MONTH</th>\n",
       "      <th>ACCNUM</th>\n",
       "      <th>DAY</th>\n",
       "      <th>HOUR</th>\n",
       "      <th>MINUTES</th>\n",
       "      <th>WEEKDAY</th>\n",
       "      <th>LATITUDE</th>\n",
       "      <th>LONGITUDE</th>\n",
       "      <th>Ward_ID</th>\n",
       "      <th>Hood_ID</th>\n",
       "      <th>FATAL_NO</th>\n",
       "      <th>PEDESTRIAN</th>\n",
       "      <th>CYCLIST</th>\n",
       "      <th>AUTOMOBILE</th>\n",
       "      <th>MOTORCYCLE</th>\n",
       "      <th>TRUCK</th>\n",
       "      <th>TRSN_CITY_VEH</th>\n",
       "      <th>EMERG_VEH</th>\n",
       "      <th>PASSENGER</th>\n",
       "      <th>SPEEDING</th>\n",
       "      <th>AG_DRIV</th>\n",
       "      <th>REDLIGHT</th>\n",
       "      <th>ALCOHOL</th>\n",
       "      <th>DISABILITY</th>\n",
       "      <th>FATAL</th>\n",
       "    </tr>\n",
       "  </thead>\n",
       "  <tbody>\n",
       "    <tr>\n",
       "      <th>122</th>\n",
       "      <td>2017</td>\n",
       "      <td>3</td>\n",
       "      <td>385026646063</td>\n",
       "      <td>994</td>\n",
       "      <td>582</td>\n",
       "      <td>1681</td>\n",
       "      <td>181</td>\n",
       "      <td>2405.881462</td>\n",
       "      <td>-4364.655111</td>\n",
       "      <td>1514</td>\n",
       "      <td>5136</td>\n",
       "      <td>60</td>\n",
       "      <td>13</td>\n",
       "      <td>6</td>\n",
       "      <td>53</td>\n",
       "      <td>0</td>\n",
       "      <td>0</td>\n",
       "      <td>2</td>\n",
       "      <td>0</td>\n",
       "      <td>26</td>\n",
       "      <td>20</td>\n",
       "      <td>36</td>\n",
       "      <td>20</td>\n",
       "      <td>2</td>\n",
       "      <td>4</td>\n",
       "      <td>14</td>\n",
       "    </tr>\n",
       "    <tr>\n",
       "      <th>123</th>\n",
       "      <td>2017</td>\n",
       "      <td>4</td>\n",
       "      <td>441041185600</td>\n",
       "      <td>850</td>\n",
       "      <td>841</td>\n",
       "      <td>1592</td>\n",
       "      <td>185</td>\n",
       "      <td>2754.119269</td>\n",
       "      <td>-5004.149088</td>\n",
       "      <td>1084</td>\n",
       "      <td>3691</td>\n",
       "      <td>105</td>\n",
       "      <td>37</td>\n",
       "      <td>2</td>\n",
       "      <td>54</td>\n",
       "      <td>3</td>\n",
       "      <td>4</td>\n",
       "      <td>4</td>\n",
       "      <td>0</td>\n",
       "      <td>21</td>\n",
       "      <td>19</td>\n",
       "      <td>34</td>\n",
       "      <td>0</td>\n",
       "      <td>0</td>\n",
       "      <td>0</td>\n",
       "      <td>12</td>\n",
       "    </tr>\n",
       "    <tr>\n",
       "      <th>124</th>\n",
       "      <td>2017</td>\n",
       "      <td>5</td>\n",
       "      <td>700087331974</td>\n",
       "      <td>1743</td>\n",
       "      <td>1458</td>\n",
       "      <td>3237</td>\n",
       "      <td>341</td>\n",
       "      <td>4372.383926</td>\n",
       "      <td>-7934.930436</td>\n",
       "      <td>2757</td>\n",
       "      <td>9061</td>\n",
       "      <td>115</td>\n",
       "      <td>25</td>\n",
       "      <td>17</td>\n",
       "      <td>92</td>\n",
       "      <td>11</td>\n",
       "      <td>3</td>\n",
       "      <td>2</td>\n",
       "      <td>0</td>\n",
       "      <td>52</td>\n",
       "      <td>14</td>\n",
       "      <td>47</td>\n",
       "      <td>9</td>\n",
       "      <td>4</td>\n",
       "      <td>4</td>\n",
       "      <td>12</td>\n",
       "    </tr>\n",
       "    <tr>\n",
       "      <th>125</th>\n",
       "      <td>2017</td>\n",
       "      <td>6</td>\n",
       "      <td>581088900536</td>\n",
       "      <td>1292</td>\n",
       "      <td>1201</td>\n",
       "      <td>1509</td>\n",
       "      <td>219</td>\n",
       "      <td>3627.606029</td>\n",
       "      <td>-6589.651996</td>\n",
       "      <td>1923</td>\n",
       "      <td>6053</td>\n",
       "      <td>81</td>\n",
       "      <td>21</td>\n",
       "      <td>18</td>\n",
       "      <td>74</td>\n",
       "      <td>20</td>\n",
       "      <td>4</td>\n",
       "      <td>12</td>\n",
       "      <td>0</td>\n",
       "      <td>39</td>\n",
       "      <td>12</td>\n",
       "      <td>30</td>\n",
       "      <td>0</td>\n",
       "      <td>0</td>\n",
       "      <td>4</td>\n",
       "      <td>8</td>\n",
       "    </tr>\n",
       "    <tr>\n",
       "      <th>126</th>\n",
       "      <td>2017</td>\n",
       "      <td>7</td>\n",
       "      <td>504092414138</td>\n",
       "      <td>1230</td>\n",
       "      <td>1068</td>\n",
       "      <td>2176</td>\n",
       "      <td>216</td>\n",
       "      <td>3147.952434</td>\n",
       "      <td>-5717.389648</td>\n",
       "      <td>1571</td>\n",
       "      <td>4791</td>\n",
       "      <td>155</td>\n",
       "      <td>26</td>\n",
       "      <td>6</td>\n",
       "      <td>59</td>\n",
       "      <td>24</td>\n",
       "      <td>4</td>\n",
       "      <td>9</td>\n",
       "      <td>0</td>\n",
       "      <td>39</td>\n",
       "      <td>8</td>\n",
       "      <td>22</td>\n",
       "      <td>0</td>\n",
       "      <td>2</td>\n",
       "      <td>0</td>\n",
       "      <td>14</td>\n",
       "    </tr>\n",
       "    <tr>\n",
       "      <th>127</th>\n",
       "      <td>2017</td>\n",
       "      <td>8</td>\n",
       "      <td>623132610617</td>\n",
       "      <td>1558</td>\n",
       "      <td>1224</td>\n",
       "      <td>2344</td>\n",
       "      <td>214</td>\n",
       "      <td>3891.465471</td>\n",
       "      <td>-7067.014574</td>\n",
       "      <td>1905</td>\n",
       "      <td>5926</td>\n",
       "      <td>219</td>\n",
       "      <td>29</td>\n",
       "      <td>10</td>\n",
       "      <td>87</td>\n",
       "      <td>8</td>\n",
       "      <td>0</td>\n",
       "      <td>11</td>\n",
       "      <td>0</td>\n",
       "      <td>34</td>\n",
       "      <td>12</td>\n",
       "      <td>48</td>\n",
       "      <td>0</td>\n",
       "      <td>4</td>\n",
       "      <td>1</td>\n",
       "      <td>11</td>\n",
       "    </tr>\n",
       "    <tr>\n",
       "      <th>128</th>\n",
       "      <td>2017</td>\n",
       "      <td>9</td>\n",
       "      <td>455110488083</td>\n",
       "      <td>1217</td>\n",
       "      <td>976</td>\n",
       "      <td>1817</td>\n",
       "      <td>194</td>\n",
       "      <td>2841.074606</td>\n",
       "      <td>-5161.158662</td>\n",
       "      <td>1434</td>\n",
       "      <td>5269</td>\n",
       "      <td>301</td>\n",
       "      <td>29</td>\n",
       "      <td>14</td>\n",
       "      <td>61</td>\n",
       "      <td>8</td>\n",
       "      <td>9</td>\n",
       "      <td>0</td>\n",
       "      <td>0</td>\n",
       "      <td>22</td>\n",
       "      <td>13</td>\n",
       "      <td>24</td>\n",
       "      <td>4</td>\n",
       "      <td>4</td>\n",
       "      <td>7</td>\n",
       "      <td>18</td>\n",
       "    </tr>\n",
       "    <tr>\n",
       "      <th>129</th>\n",
       "      <td>2017</td>\n",
       "      <td>10</td>\n",
       "      <td>581153482079</td>\n",
       "      <td>991</td>\n",
       "      <td>1238</td>\n",
       "      <td>1872</td>\n",
       "      <td>216</td>\n",
       "      <td>3628.687772</td>\n",
       "      <td>-6588.683656</td>\n",
       "      <td>1988</td>\n",
       "      <td>6562</td>\n",
       "      <td>245</td>\n",
       "      <td>39</td>\n",
       "      <td>18</td>\n",
       "      <td>72</td>\n",
       "      <td>12</td>\n",
       "      <td>4</td>\n",
       "      <td>6</td>\n",
       "      <td>0</td>\n",
       "      <td>27</td>\n",
       "      <td>15</td>\n",
       "      <td>42</td>\n",
       "      <td>10</td>\n",
       "      <td>0</td>\n",
       "      <td>0</td>\n",
       "      <td>13</td>\n",
       "    </tr>\n",
       "    <tr>\n",
       "      <th>130</th>\n",
       "      <td>2017</td>\n",
       "      <td>11</td>\n",
       "      <td>427337858381</td>\n",
       "      <td>1073</td>\n",
       "      <td>820</td>\n",
       "      <td>1650</td>\n",
       "      <td>183</td>\n",
       "      <td>2711.253705</td>\n",
       "      <td>-4922.590912</td>\n",
       "      <td>1410</td>\n",
       "      <td>4575</td>\n",
       "      <td>271</td>\n",
       "      <td>40</td>\n",
       "      <td>6</td>\n",
       "      <td>56</td>\n",
       "      <td>0</td>\n",
       "      <td>2</td>\n",
       "      <td>4</td>\n",
       "      <td>0</td>\n",
       "      <td>17</td>\n",
       "      <td>4</td>\n",
       "      <td>31</td>\n",
       "      <td>0</td>\n",
       "      <td>0</td>\n",
       "      <td>0</td>\n",
       "      <td>8</td>\n",
       "    </tr>\n",
       "    <tr>\n",
       "      <th>131</th>\n",
       "      <td>2017</td>\n",
       "      <td>12</td>\n",
       "      <td>329150524385</td>\n",
       "      <td>722</td>\n",
       "      <td>633</td>\n",
       "      <td>1579</td>\n",
       "      <td>107</td>\n",
       "      <td>2054.480385</td>\n",
       "      <td>-3730.934695</td>\n",
       "      <td>1218</td>\n",
       "      <td>3579</td>\n",
       "      <td>412</td>\n",
       "      <td>33</td>\n",
       "      <td>2</td>\n",
       "      <td>40</td>\n",
       "      <td>2</td>\n",
       "      <td>2</td>\n",
       "      <td>3</td>\n",
       "      <td>0</td>\n",
       "      <td>18</td>\n",
       "      <td>10</td>\n",
       "      <td>23</td>\n",
       "      <td>7</td>\n",
       "      <td>2</td>\n",
       "      <td>0</td>\n",
       "      <td>13</td>\n",
       "    </tr>\n",
       "  </tbody>\n",
       "</table>\n",
       "</div>"
      ],
      "text/plain": [
       "     YEAR  MONTH        ACCNUM  ...    ALCOHOL  DISABILITY  FATAL\n",
       "122  2017      3  385026646063  ...          2           4     14\n",
       "123  2017      4  441041185600  ...          0           0     12\n",
       "124  2017      5  700087331974  ...          4           4     12\n",
       "125  2017      6  581088900536  ...          0           4      8\n",
       "126  2017      7  504092414138  ...          2           0     14\n",
       "127  2017      8  623132610617  ...          4           1     11\n",
       "128  2017      9  455110488083  ...          4           7     18\n",
       "129  2017     10  581153482079  ...          0           0     13\n",
       "130  2017     11  427337858381  ...          0           0      8\n",
       "131  2017     12  329150524385  ...          2           0     13\n",
       "\n",
       "[10 rows x 26 columns]"
      ]
     },
     "execution_count": 33,
     "metadata": {},
     "output_type": "execute_result"
    }
   ],
   "source": [
    "# Summary statistics aggregated by month\n",
    "df_ksi_monthly = df_ksi.groupby(by=['YEAR', 'MONTH'],as_index=False).sum()\n",
    "\n",
    "# Show only the last 10 rows\n",
    "df_ksi_monthly.tail(10)"
   ]
  },
  {
   "cell_type": "markdown",
   "metadata": {
    "_uuid": "f21b1f51e36f1cabf9d4471137676f7e730e4ee9"
   },
   "source": [
    "## Seaborn\n",
    "Seaborn is another visualization library similar to matplotlib. https://seaborn.pydata.org/"
   ]
  },
  {
   "cell_type": "code",
   "execution_count": 34,
   "metadata": {
    "_uuid": "e9ce313bd72e694b3fb03a445f17fe09e930d649"
   },
   "outputs": [],
   "source": [
    "import seaborn as sns"
   ]
  },
  {
   "cell_type": "code",
   "execution_count": 35,
   "metadata": {
    "_uuid": "a472115b5898358e6bb5b719128b926c6578335a",
    "scrolled": false
   },
   "outputs": [
    {
     "name": "stderr",
     "output_type": "stream",
     "text": [
      "/opt/conda/lib/python3.6/site-packages/scipy/stats/stats.py:1713: FutureWarning: Using a non-tuple sequence for multidimensional indexing is deprecated; use `arr[tuple(seq)]` instead of `arr[seq]`. In the future this will be interpreted as an array index, `arr[np.array(seq)]`, which will result either in an error or a different result.\n",
      "  return np.add.reduce(sorted[indexer] * weights, axis=axis) / sumval\n",
      "No handles with labels found to put in legend.\n"
     ]
    },
    {
     "data": {
      "image/png": "[encoded data removed]",
      "text/plain": [
       "<Figure size 1296x432 with 1 Axes>"
      ]
     },
     "metadata": {},
     "output_type": "display_data"
    }
   ],
   "source": [
    "# Learning Exercise\n",
    "\n",
    "# Try changing the independent (x) and dependent (y) \n",
    "# variables to visualize the trends in the data\n",
    "# (optional: uncomment the Hue and see how that changes the plot)\n",
    "\n",
    "plt.figure(figsize=(18,6))\n",
    "\n",
    "sns.barplot(data = df_ksi_monthly,\n",
    "            #hue = 'MONTH',\n",
    "            x = 'YEAR',\n",
    "            # Number of events involving automobiles\n",
    "            y = 'AUTOMOBILE',\n",
    "            capsize = 0.2)\n",
    "\n",
    "# Legend Placement\n",
    "plt.legend(loc='best')\n",
    "#plt.legend(loc='upper right')\n",
    "#plt.legend(loc='upper left')\n",
    "\n",
    "plt.show()"
   ]
  },
  {
   "cell_type": "code",
   "execution_count": 36,
   "metadata": {
    "_uuid": "c8b152e955d4f437798db2516148062115df6234"
   },
   "outputs": [
    {
     "name": "stderr",
     "output_type": "stream",
     "text": [
      "/opt/conda/lib/python3.6/site-packages/scipy/stats/stats.py:1713: FutureWarning: Using a non-tuple sequence for multidimensional indexing is deprecated; use `arr[tuple(seq)]` instead of `arr[seq]`. In the future this will be interpreted as an array index, `arr[np.array(seq)]`, which will result either in an error or a different result.\n",
      "  return np.add.reduce(sorted[indexer] * weights, axis=axis) / sumval\n"
     ]
    },
    {
     "data": {
      "image/png": "[encoded data removed]",
      "text/plain": [
       "<Figure size 432x432 with 3 Axes>"
      ]
     },
     "metadata": {},
     "output_type": "display_data"
    }
   ],
   "source": [
    "# Learning Exercise\n",
    "# Try changing the independent (x) and dependent (y) \n",
    "# variables to visualize the trends in the data\n",
    "\n",
    "sns.jointplot(data = df_ksi_monthly,\n",
    "              kind = 'reg',\n",
    "              x = 'AG_DRIV', # Aggressive and Distracted Driving Collision\n",
    "              y = 'SPEEDING') # Speeding Related Collision\n",
    "plt.show()"
   ]
  },
  {
   "cell_type": "code",
   "execution_count": 37,
   "metadata": {
    "_uuid": "0dfa2e3323941a312da8fb5c9364c55437ede166",
    "scrolled": false
   },
   "outputs": [
    {
     "data": {
      "image/png": "[encoded data removed]",
      "text/plain": [
       "<Figure size 900x900 with 30 Axes>"
      ]
     },
     "metadata": {},
     "output_type": "display_data"
    }
   ],
   "source": [
    "# More correlations between attributes accumulated by month\n",
    "\n",
    "# PASSENGER Passenger Involved in Collision\n",
    "# SPEEDING Speeding Related Collision\n",
    "# AG_DRIV Aggressive and Distracted Driving Collision\n",
    "# ALCOHOL Alcohol Related Collision\n",
    "# FATAL Fatal event\n",
    "\n",
    "sns.pairplot(df_ksi_monthly[['PASSENGER','SPEEDING','AG_DRIV','ALCOHOL','FATAL']])\n",
    "plt.show()"
   ]
  },
  {
   "cell_type": "markdown",
   "metadata": {
    "_uuid": "9ccc5afd63b5a9eba3e9f107b14ebe37f36fbe83"
   },
   "source": [
    "## Plotting Time-Series Numerical Data"
   ]
  },
  {
   "cell_type": "code",
   "execution_count": 38,
   "metadata": {
    "_uuid": "50f70baf63e8fe66518a3c7e60ea00a2d75febf8"
   },
   "outputs": [
    {
     "data": {
      "text/html": [
       "<div>\n",
       "<style scoped>\n",
       "    .dataframe tbody tr th:only-of-type {\n",
       "        vertical-align: middle;\n",
       "    }\n",
       "\n",
       "    .dataframe tbody tr th {\n",
       "        vertical-align: top;\n",
       "    }\n",
       "\n",
       "    .dataframe thead th {\n",
       "        text-align: right;\n",
       "    }\n",
       "</style>\n",
       "<table border=\"1\" class=\"dataframe\">\n",
       "  <thead>\n",
       "    <tr style=\"text-align: right;\">\n",
       "      <th>YEAR</th>\n",
       "      <th>2007</th>\n",
       "      <th>2008</th>\n",
       "      <th>2009</th>\n",
       "      <th>2010</th>\n",
       "      <th>2011</th>\n",
       "      <th>2012</th>\n",
       "      <th>2013</th>\n",
       "      <th>2014</th>\n",
       "      <th>2015</th>\n",
       "      <th>2016</th>\n",
       "      <th>2017</th>\n",
       "    </tr>\n",
       "    <tr>\n",
       "      <th>MONTH</th>\n",
       "      <th></th>\n",
       "      <th></th>\n",
       "      <th></th>\n",
       "      <th></th>\n",
       "      <th></th>\n",
       "      <th></th>\n",
       "      <th></th>\n",
       "      <th></th>\n",
       "      <th></th>\n",
       "      <th></th>\n",
       "      <th></th>\n",
       "    </tr>\n",
       "  </thead>\n",
       "  <tbody>\n",
       "    <tr>\n",
       "      <th>1</th>\n",
       "      <td>3</td>\n",
       "      <td>15</td>\n",
       "      <td>4</td>\n",
       "      <td>28</td>\n",
       "      <td>11</td>\n",
       "      <td>14</td>\n",
       "      <td>10</td>\n",
       "      <td>6</td>\n",
       "      <td>5</td>\n",
       "      <td>22</td>\n",
       "      <td>12</td>\n",
       "    </tr>\n",
       "    <tr>\n",
       "      <th>2</th>\n",
       "      <td>14</td>\n",
       "      <td>16</td>\n",
       "      <td>5</td>\n",
       "      <td>16</td>\n",
       "      <td>3</td>\n",
       "      <td>3</td>\n",
       "      <td>6</td>\n",
       "      <td>8</td>\n",
       "      <td>8</td>\n",
       "      <td>12</td>\n",
       "      <td>6</td>\n",
       "    </tr>\n",
       "    <tr>\n",
       "      <th>3</th>\n",
       "      <td>19</td>\n",
       "      <td>6</td>\n",
       "      <td>13</td>\n",
       "      <td>11</td>\n",
       "      <td>6</td>\n",
       "      <td>2</td>\n",
       "      <td>15</td>\n",
       "      <td>1</td>\n",
       "      <td>16</td>\n",
       "      <td>12</td>\n",
       "      <td>14</td>\n",
       "    </tr>\n",
       "    <tr>\n",
       "      <th>4</th>\n",
       "      <td>13</td>\n",
       "      <td>7</td>\n",
       "      <td>10</td>\n",
       "      <td>4</td>\n",
       "      <td>2</td>\n",
       "      <td>12</td>\n",
       "      <td>18</td>\n",
       "      <td>2</td>\n",
       "      <td>9</td>\n",
       "      <td>16</td>\n",
       "      <td>12</td>\n",
       "    </tr>\n",
       "    <tr>\n",
       "      <th>5</th>\n",
       "      <td>2</td>\n",
       "      <td>30</td>\n",
       "      <td>8</td>\n",
       "      <td>10</td>\n",
       "      <td>0</td>\n",
       "      <td>12</td>\n",
       "      <td>9</td>\n",
       "      <td>12</td>\n",
       "      <td>16</td>\n",
       "      <td>17</td>\n",
       "      <td>12</td>\n",
       "    </tr>\n",
       "    <tr>\n",
       "      <th>6</th>\n",
       "      <td>25</td>\n",
       "      <td>16</td>\n",
       "      <td>11</td>\n",
       "      <td>9</td>\n",
       "      <td>8</td>\n",
       "      <td>4</td>\n",
       "      <td>4</td>\n",
       "      <td>3</td>\n",
       "      <td>16</td>\n",
       "      <td>16</td>\n",
       "      <td>8</td>\n",
       "    </tr>\n",
       "    <tr>\n",
       "      <th>7</th>\n",
       "      <td>23</td>\n",
       "      <td>28</td>\n",
       "      <td>8</td>\n",
       "      <td>28</td>\n",
       "      <td>16</td>\n",
       "      <td>15</td>\n",
       "      <td>35</td>\n",
       "      <td>14</td>\n",
       "      <td>9</td>\n",
       "      <td>21</td>\n",
       "      <td>14</td>\n",
       "    </tr>\n",
       "    <tr>\n",
       "      <th>8</th>\n",
       "      <td>16</td>\n",
       "      <td>10</td>\n",
       "      <td>6</td>\n",
       "      <td>3</td>\n",
       "      <td>37</td>\n",
       "      <td>11</td>\n",
       "      <td>39</td>\n",
       "      <td>24</td>\n",
       "      <td>14</td>\n",
       "      <td>15</td>\n",
       "      <td>11</td>\n",
       "    </tr>\n",
       "    <tr>\n",
       "      <th>9</th>\n",
       "      <td>23</td>\n",
       "      <td>13</td>\n",
       "      <td>11</td>\n",
       "      <td>17</td>\n",
       "      <td>12</td>\n",
       "      <td>13</td>\n",
       "      <td>21</td>\n",
       "      <td>10</td>\n",
       "      <td>27</td>\n",
       "      <td>14</td>\n",
       "      <td>18</td>\n",
       "    </tr>\n",
       "    <tr>\n",
       "      <th>10</th>\n",
       "      <td>13</td>\n",
       "      <td>25</td>\n",
       "      <td>25</td>\n",
       "      <td>2</td>\n",
       "      <td>10</td>\n",
       "      <td>12</td>\n",
       "      <td>21</td>\n",
       "      <td>11</td>\n",
       "      <td>9</td>\n",
       "      <td>17</td>\n",
       "      <td>13</td>\n",
       "    </tr>\n",
       "    <tr>\n",
       "      <th>11</th>\n",
       "      <td>11</td>\n",
       "      <td>10</td>\n",
       "      <td>12</td>\n",
       "      <td>8</td>\n",
       "      <td>10</td>\n",
       "      <td>15</td>\n",
       "      <td>25</td>\n",
       "      <td>25</td>\n",
       "      <td>17</td>\n",
       "      <td>17</td>\n",
       "      <td>8</td>\n",
       "    </tr>\n",
       "    <tr>\n",
       "      <th>12</th>\n",
       "      <td>7</td>\n",
       "      <td>3</td>\n",
       "      <td>20</td>\n",
       "      <td>21</td>\n",
       "      <td>11</td>\n",
       "      <td>12</td>\n",
       "      <td>9</td>\n",
       "      <td>18</td>\n",
       "      <td>9</td>\n",
       "      <td>6</td>\n",
       "      <td>13</td>\n",
       "    </tr>\n",
       "  </tbody>\n",
       "</table>\n",
       "</div>"
      ],
      "text/plain": [
       "YEAR   2007  2008  2009  2010  2011  2012  2013  2014  2015  2016  2017\n",
       "MONTH                                                                  \n",
       "1         3    15     4    28    11    14    10     6     5    22    12\n",
       "2        14    16     5    16     3     3     6     8     8    12     6\n",
       "3        19     6    13    11     6     2    15     1    16    12    14\n",
       "4        13     7    10     4     2    12    18     2     9    16    12\n",
       "5         2    30     8    10     0    12     9    12    16    17    12\n",
       "6        25    16    11     9     8     4     4     3    16    16     8\n",
       "7        23    28     8    28    16    15    35    14     9    21    14\n",
       "8        16    10     6     3    37    11    39    24    14    15    11\n",
       "9        23    13    11    17    12    13    21    10    27    14    18\n",
       "10       13    25    25     2    10    12    21    11     9    17    13\n",
       "11       11    10    12     8    10    15    25    25    17    17     8\n",
       "12        7     3    20    21    11    12     9    18     9     6    13"
      ]
     },
     "execution_count": 38,
     "metadata": {},
     "output_type": "execute_result"
    }
   ],
   "source": [
    "data = df_ksi_monthly.pivot('MONTH','YEAR','FATAL')\n",
    "data"
   ]
  },
  {
   "cell_type": "code",
   "execution_count": 39,
   "metadata": {
    "_uuid": "d4e2e7e03f71f40cdc7b23aec6511596d13e7f41"
   },
   "outputs": [
    {
     "data": {
      "image/png": "[encoded data removed]",
      "text/plain": [
       "<Figure size 864x432 with 2 Axes>"
      ]
     },
     "metadata": {},
     "output_type": "display_data"
    }
   ],
   "source": [
    "plt.figure(figsize=(12,6))\n",
    "sns.heatmap(data)\n",
    "plt.show()"
   ]
  },
  {
   "cell_type": "markdown",
   "metadata": {
    "_uuid": "a46b7b1a59b20359bc06f363ad702ef20ae9c42e"
   },
   "source": [
    "## Plotting Geographic Data"
   ]
  },
  {
   "cell_type": "code",
   "execution_count": 40,
   "metadata": {
    "_uuid": "280fa7f8aa03f3307928b034069deec888f5ac4d"
   },
   "outputs": [
    {
     "name": "stdout",
     "output_type": "stream",
     "text": [
      "Geographic Attributes: \n",
      " ['LATITUDE', 'LONGITUDE', 'Ward_Name', 'Hood_Name', 'District', 'Division', 'STREET1', 'STREET2']\n"
     ]
    }
   ],
   "source": [
    "print(\"Geographic Attributes: \\n\", str(ksi_geographical))"
   ]
  },
  {
   "cell_type": "code",
   "execution_count": 41,
   "metadata": {
    "_uuid": "15c49e35b4e7b3a0ad344b4f456a65ec8a2b5f5d"
   },
   "outputs": [
    {
     "data": {
      "image/png": "[encoded data removed]",
      "text/plain": [
       "<Figure size 864x432 with 1 Axes>"
      ]
     },
     "metadata": {},
     "output_type": "display_data"
    }
   ],
   "source": [
    "# Learning Exercise\n",
    "# Try changing the geographic attribute with another attribute listed above:\n",
    "attribute = 'District'\n",
    "\n",
    "plt.figure(figsize=(12,6))\n",
    "data = df_ksi[attribute].value_counts().head(12)\n",
    "data.plot(kind='bar')\n",
    "plt.show()"
   ]
  },
  {
   "cell_type": "code",
   "execution_count": 42,
   "metadata": {
    "_uuid": "143fbf38fafbea560a92657609f86038856879fa"
   },
   "outputs": [
    {
     "data": {
      "text/html": [
       "<div>\n",
       "<style scoped>\n",
       "    .dataframe tbody tr th:only-of-type {\n",
       "        vertical-align: middle;\n",
       "    }\n",
       "\n",
       "    .dataframe tbody tr th {\n",
       "        vertical-align: top;\n",
       "    }\n",
       "\n",
       "    .dataframe thead th {\n",
       "        text-align: right;\n",
       "    }\n",
       "</style>\n",
       "<table border=\"1\" class=\"dataframe\">\n",
       "  <thead>\n",
       "    <tr style=\"text-align: right;\">\n",
       "      <th></th>\n",
       "      <th>LATITUDE</th>\n",
       "      <th>LONGITUDE</th>\n",
       "      <th>FATAL</th>\n",
       "    </tr>\n",
       "  </thead>\n",
       "  <tbody>\n",
       "    <tr>\n",
       "      <th>10364</th>\n",
       "      <td>43.680725</td>\n",
       "      <td>-79.382404</td>\n",
       "      <td>1</td>\n",
       "    </tr>\n",
       "    <tr>\n",
       "      <th>7197</th>\n",
       "      <td>43.727844</td>\n",
       "      <td>-79.417889</td>\n",
       "      <td>1</td>\n",
       "    </tr>\n",
       "    <tr>\n",
       "      <th>1628</th>\n",
       "      <td>43.667644</td>\n",
       "      <td>-79.342793</td>\n",
       "      <td>1</td>\n",
       "    </tr>\n",
       "  </tbody>\n",
       "</table>\n",
       "</div>"
      ],
      "text/plain": [
       "        LATITUDE  LONGITUDE  FATAL\n",
       "10364  43.680725 -79.382404      1\n",
       "7197   43.727844 -79.417889      1\n",
       "1628   43.667644 -79.342793      1"
      ]
     },
     "execution_count": 42,
     "metadata": {},
     "output_type": "execute_result"
    }
   ],
   "source": [
    "df_ksi_geo = df_ksi[df_ksi['FATAL'] == 1]\n",
    "df_ksi_geo = df_ksi_geo[['LATITUDE', 'LONGITUDE', 'FATAL']].sample(1000)\n",
    "df_ksi_geo.sample(3)"
   ]
  },
  {
   "cell_type": "code",
   "execution_count": 43,
   "metadata": {
    "_uuid": "2165121ab9d33a49d38bf7e5c9a30116c677eb09"
   },
   "outputs": [],
   "source": [
    "lat_Toronto = df_ksi.describe().at['mean','LATITUDE']\n",
    "lng_Toronto = df_ksi.describe().at['mean','LONGITUDE']"
   ]
  },
  {
   "cell_type": "code",
   "execution_count": 44,
   "metadata": {
    "_uuid": "430670db42ec1802267c9e7fd7c5cac17cb6e886",
    "scrolled": false
   },
   "outputs": [
    {
     "data": {
      "text/html": [
       "<div style=\"width:100%;\"><div style=\"position:relative;width:100%;height:0;padding-bottom:60%;\"><iframe src=\"data:text/html;charset=utf-8;base64,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\" style=\"position:absolute;width:100%;height:100%;left:0;top:0;border:none !important;\" allowfullscreen webkitallowfullscreen mozallowfullscreen></iframe></div></div>"
      ],
      "text/plain": [
       "<folium.folium.Map at 0x7fedd8190710>"
      ]
     },
     "execution_count": 44,
     "metadata": {},
     "output_type": "execute_result"
    }
   ],
   "source": [
    "# Heatmap of fatal events\n",
    "map_ksi_fatal = folium.Map(location = [lat_Toronto, lng_Toronto],\n",
    "                           #tiles = 'Stamen Toner', # uncomment this code to change basemap\n",
    "                           zoom_start = 11)\n",
    "\n",
    "HeatMap(df_ksi_geo.values, min_opacity =0.4).add_to(map_ksi_fatal)\n",
    "map_ksi_fatal"
   ]
  },
  {
   "cell_type": "markdown",
   "metadata": {
    "_uuid": "827346f2b327ad0637218016bf8b81bd2970fbb0"
   },
   "source": [
    "## Correlation Analysis"
   ]
  },
  {
   "cell_type": "code",
   "execution_count": 45,
   "metadata": {
    "_uuid": "9d87ee3426f1f988821f19456e100685df5e1e53"
   },
   "outputs": [
    {
     "data": {
      "image/png": "[encoded data removed]",
      "text/plain": [
       "<Figure size 1008x720 with 2 Axes>"
      ]
     },
     "metadata": {},
     "output_type": "display_data"
    }
   ],
   "source": [
    "# Below we are visualizing the correlation of the attributes.\n",
    "#  - If the correlation for two attributes is closer to positive one, \n",
    "#    they are positively correlated, meaning that if the value for one increases, \n",
    "#    the other is expected to increase as well.\n",
    "#  - If the correlation for two attributes is close to negative one, \n",
    "#    they are negatively correlated, meaning that if the value for one increases, \n",
    "#    the other is expected to decrease as well.\n",
    "#  - If the correlation is close to zero, there is likely no correlation.\n",
    "\n",
    "plt.figure(figsize=(14,10))\n",
    "sns.heatmap(df_ksi_monthly[ksi_boolean].corr())\n",
    "plt.show()"
   ]
  },
  {
   "cell_type": "markdown",
   "metadata": {
    "_uuid": "fae8f71a23bb7e62b04b4bc5f67e05fa0649046e"
   },
   "source": [
    "# Machine Learning for predicting fatal events\n",
    "Scikit-learn is one of the most popular Machine Learning libraries written in Python.\n",
    "\n",
    "https://scikit-learn.org/"
   ]
  },
  {
   "cell_type": "markdown",
   "metadata": {
    "_uuid": "b9434eac2574e334364e3ad7ac11afc5e8bf0943"
   },
   "source": [
    "## Train/Test Splitting"
   ]
  },
  {
   "cell_type": "code",
   "execution_count": 46,
   "metadata": {
    "_uuid": "f2faef55d34da5c7e197da59c2dd9563036da606"
   },
   "outputs": [],
   "source": [
    "from sklearn.model_selection import train_test_split"
   ]
  },
  {
   "cell_type": "code",
   "execution_count": 47,
   "metadata": {
    "_uuid": "d555e07f9cda7753acddabf7efb2a4595e846578"
   },
   "outputs": [],
   "source": [
    "# the function below takes in the dataset, and a list of input columns names \n",
    "# as model input and a column name to predict for.\n",
    "def split_train_test(data, X, y):\n",
    "    X_all = data[X]\n",
    "    y_all = data[y]\n",
    "    \n",
    "    X_train, X_test, y_train, y_test = train_test_split(X_all,\n",
    "                                                        y_all,\n",
    "                                                        test_size=0.4,\n",
    "                                                        random_state=42)\n",
    "    \n",
    "    return X_train, X_test, y_train, y_test"
   ]
  },
  {
   "cell_type": "code",
   "execution_count": 48,
   "metadata": {
    "_uuid": "c332f1726173d5dfdf7cbeb8b0586ca3440e454d"
   },
   "outputs": [],
   "source": [
    "from sklearn.metrics import classification_report, confusion_matrix, accuracy_score"
   ]
  },
  {
   "cell_type": "markdown",
   "metadata": {
    "_uuid": "5ec521abba39507f52599e5409c9fb3b9b3036f9"
   },
   "source": [
    "## Descision Tree Classifier"
   ]
  },
  {
   "cell_type": "code",
   "execution_count": 49,
   "metadata": {
    "_uuid": "e5821aabc6ba8187a16295bc8a9850d6d82c0213"
   },
   "outputs": [],
   "source": [
    "from sklearn.tree import DecisionTreeClassifier"
   ]
  },
  {
   "cell_type": "code",
   "execution_count": 50,
   "metadata": {
    "_uuid": "d496ae96d88deef0b8aa25894b2a69d07dcdbd82"
   },
   "outputs": [],
   "source": [
    "# Learning Exercise:\n",
    "# Try changing the variables of the model and see how the model accuracy changes!\n",
    "model_input = ['YEAR','MONTH','WEEKDAY','Hood_ID']\n",
    "model_output = 'FATAL'\n",
    "\n",
    "X_train, X_test, y_train, y_test = split_train_test(data = df_ksi,\n",
    "                                                    X = model_input,\n",
    "                                                    y = model_output)"
   ]
  },
  {
   "cell_type": "code",
   "execution_count": 51,
   "metadata": {
    "_uuid": "79d951ccb087472548410f92875ecc7c368d2b02"
   },
   "outputs": [],
   "source": [
    "dtree = DecisionTreeClassifier()"
   ]
  },
  {
   "cell_type": "code",
   "execution_count": 52,
   "metadata": {
    "_uuid": "3e4ebf58c29cc503b44df6371d6ce3ce91df0695"
   },
   "outputs": [
    {
     "data": {
      "text/plain": [
       "DecisionTreeClassifier(class_weight=None, criterion='gini', max_depth=None,\n",
       "            max_features=None, max_leaf_nodes=None,\n",
       "            min_impurity_decrease=0.0, min_impurity_split=None,\n",
       "            min_samples_leaf=1, min_samples_split=2,\n",
       "            min_weight_fraction_leaf=0.0, presort=False, random_state=None,\n",
       "            splitter='best')"
      ]
     },
     "execution_count": 52,
     "metadata": {},
     "output_type": "execute_result"
    }
   ],
   "source": [
    "dtree.fit(X_train, y_train)"
   ]
  },
  {
   "cell_type": "code",
   "execution_count": 53,
   "metadata": {
    "_uuid": "d286b4b8c6c79de4ca83c38165abd8d1d614fa5b"
   },
   "outputs": [],
   "source": [
    "predictions = dtree.predict(X_test)"
   ]
  },
  {
   "cell_type": "code",
   "execution_count": 54,
   "metadata": {
    "_uuid": "bea55fcf343b0e1592e34d8f2420f3e22f8b8e6e"
   },
   "outputs": [
    {
     "name": "stdout",
     "output_type": "stream",
     "text": [
      "[[4191  156]\n",
      " [ 136  535]]\n"
     ]
    }
   ],
   "source": [
    "# The confusion matrix shows the proportion of incidents predicted correctly, and incorrectly\n",
    "\n",
    "print(confusion_matrix(y_test, predictions))"
   ]
  },
  {
   "cell_type": "code",
   "execution_count": 55,
   "metadata": {
    "_uuid": "10a22de92c03c60b0f03c99fe52717e417467933"
   },
   "outputs": [
    {
     "name": "stdout",
     "output_type": "stream",
     "text": [
      "              precision    recall  f1-score   support\n",
      "\n",
      "           0       0.97      0.96      0.97      4347\n",
      "           1       0.77      0.80      0.79       671\n",
      "\n",
      "   micro avg       0.94      0.94      0.94      5018\n",
      "   macro avg       0.87      0.88      0.88      5018\n",
      "weighted avg       0.94      0.94      0.94      5018\n",
      "\n"
     ]
    }
   ],
   "source": [
    "print(classification_report(y_test, predictions))"
   ]
  },
  {
   "cell_type": "code",
   "execution_count": 56,
   "metadata": {
    "_uuid": "8221566d7ee3053ca5ce153e6e80edf5f23ac758"
   },
   "outputs": [
    {
     "data": {
      "text/plain": [
       "0.9418094858509366"
      ]
     },
     "execution_count": 56,
     "metadata": {},
     "output_type": "execute_result"
    }
   ],
   "source": [
    "accuracy_score(y_test, predictions)"
   ]
  },
  {
   "cell_type": "markdown",
   "metadata": {
    "_uuid": "42b1acd8e208a135f1be4b378937054c17340370"
   },
   "source": [
    "## Visualizing the Decision Tree"
   ]
  },
  {
   "cell_type": "code",
   "execution_count": 57,
   "metadata": {
    "_uuid": "107680b3ba49dadc4cc724c11bcedbf17a052568"
   },
   "outputs": [],
   "source": [
    "from IPython.display import Image\n",
    "from sklearn.externals.six import StringIO\n",
    "from sklearn.tree import export_graphviz\n",
    "import pydot\n",
    "\n",
    "dot_data = StringIO()"
   ]
  },
  {
   "cell_type": "code",
   "execution_count": 58,
   "metadata": {
    "_uuid": "784f76fc2a20a27ca58852f1dd7c965dfc5277bb"
   },
   "outputs": [],
   "source": [
    "def draw_decision_tree(tree):\n",
    "    export_graphviz(tree,\n",
    "                    out_file=dot_data,\n",
    "                    feature_names = X_train.columns,\n",
    "                    filled = True,\n",
    "                    rounded = True)\n",
    "    \n",
    "    graph = pydot.graph_from_dot_data(dot_data.getvalue())\n",
    "    \n",
    "    return Image(graph[0].create_png())"
   ]
  },
  {
   "cell_type": "code",
   "execution_count": 59,
   "metadata": {
    "_uuid": "f44694988aaa9c5b5adf50399d50cae756c94644"
   },
   "outputs": [],
   "source": [
    "# NOTE: Depending on your device performance, you may not want to\n",
    "#       run the command below because it computationally intensive\n",
    "\n",
    "# Running the command below will draw the entire descision tree!\n",
    "# You can copy the image and paste it in Microsoft Paint or another image viewer and see the decision paths.\n",
    "\n",
    "#draw_decision_tree(dtree)"
   ]
  },
  {
   "cell_type": "markdown",
   "metadata": {
    "_uuid": "5216072ca16989f99cf0cc7dc35affb03584156b"
   },
   "source": [
    "## Random Forest Classifier"
   ]
  },
  {
   "cell_type": "code",
   "execution_count": 60,
   "metadata": {
    "_uuid": "da8200d3b9cedfdd2b492f107b1366bd8fd251f3"
   },
   "outputs": [],
   "source": [
    "from sklearn.ensemble import RandomForestClassifier"
   ]
  },
  {
   "cell_type": "code",
   "execution_count": 61,
   "metadata": {
    "_uuid": "2b7725550cd156352b666d0fd05382f4160e90e0"
   },
   "outputs": [],
   "source": [
    "# Learning Exercise:\n",
    "# Try changing the variables of the model and see how the model accuracy changes!\n",
    "model_input = ['YEAR','MONTH','WEEKDAY','Hood_ID']\n",
    "model_output = 'FATAL'\n",
    "\n",
    "X_train, X_test, y_train, y_test = split_train_test(data = df_ksi,\n",
    "                                                    X = model_input,\n",
    "                                                    y = model_output)"
   ]
  },
  {
   "cell_type": "code",
   "execution_count": 62,
   "metadata": {
    "_uuid": "d46659912fe44a25f2911dca047cf53dbef586ed"
   },
   "outputs": [],
   "source": [
    "model_input = ['YEAR','MONTH','WEEKDAY','LATITUDE','LONGITUDE']\n",
    "model_output = 'FATAL'\n",
    "\n",
    "X_train, X_test, y_train, y_test = split_train_test(data = df_ksi,\n",
    "                                                    X = model_input,\n",
    "                                                    y = model_output)"
   ]
  },
  {
   "cell_type": "code",
   "execution_count": 63,
   "metadata": {
    "_uuid": "873e8d0023b6fd3ebc1c22b7f3145730397527b6"
   },
   "outputs": [],
   "source": [
    "rfc = RandomForestClassifier(n_estimators = 200)"
   ]
  },
  {
   "cell_type": "code",
   "execution_count": 64,
   "metadata": {
    "_uuid": "6458ca36d64785cc0383f9543dfcac42573e5d9a"
   },
   "outputs": [
    {
     "data": {
      "text/plain": [
       "RandomForestClassifier(bootstrap=True, class_weight=None, criterion='gini',\n",
       "            max_depth=None, max_features='auto', max_leaf_nodes=None,\n",
       "            min_impurity_decrease=0.0, min_impurity_split=None,\n",
       "            min_samples_leaf=1, min_samples_split=2,\n",
       "            min_weight_fraction_leaf=0.0, n_estimators=200, n_jobs=None,\n",
       "            oob_score=False, random_state=None, verbose=0,\n",
       "            warm_start=False)"
      ]
     },
     "execution_count": 64,
     "metadata": {},
     "output_type": "execute_result"
    }
   ],
   "source": [
    "rfc.fit(X_train, y_train)"
   ]
  },
  {
   "cell_type": "code",
   "execution_count": 65,
   "metadata": {
    "_uuid": "52153f95ab0b1be062e5e27c269e128217ed008c"
   },
   "outputs": [],
   "source": [
    "predictions = rfc.predict(X_test)"
   ]
  },
  {
   "cell_type": "code",
   "execution_count": 66,
   "metadata": {
    "_uuid": "cfe923002ec7df3395bdd1b7cbb4d624f8bba32d"
   },
   "outputs": [
    {
     "name": "stdout",
     "output_type": "stream",
     "text": [
      "[[4331   16]\n",
      " [ 133  538]]\n"
     ]
    }
   ],
   "source": [
    "print(confusion_matrix(y_test, predictions))"
   ]
  },
  {
   "cell_type": "code",
   "execution_count": 67,
   "metadata": {
    "_uuid": "ddaaad6bc1e08a96c005dbd8e66c4af14dad0b8e"
   },
   "outputs": [
    {
     "name": "stdout",
     "output_type": "stream",
     "text": [
      "              precision    recall  f1-score   support\n",
      "\n",
      "           0       0.97      1.00      0.98      4347\n",
      "           1       0.97      0.80      0.88       671\n",
      "\n",
      "   micro avg       0.97      0.97      0.97      5018\n",
      "   macro avg       0.97      0.90      0.93      5018\n",
      "weighted avg       0.97      0.97      0.97      5018\n",
      "\n"
     ]
    }
   ],
   "source": [
    "print(classification_report(y_test, predictions))"
   ]
  },
  {
   "cell_type": "code",
   "execution_count": 68,
   "metadata": {
    "_uuid": "d94aff80755652e6304737de4733f350686e1321"
   },
   "outputs": [
    {
     "data": {
      "text/plain": [
       "0.9703068951773615"
      ]
     },
     "execution_count": 68,
     "metadata": {},
     "output_type": "execute_result"
    }
   ],
   "source": [
    "accuracy_score(y_test, predictions)"
   ]
  },
  {
   "cell_type": "code",
   "execution_count": 69,
   "metadata": {
    "_uuid": "4585be02672d81d6b9f49949e49c5e041f1fa6c4"
   },
   "outputs": [
    {
     "name": "stdout",
     "output_type": "stream",
     "text": [
      "Number of Descision Trees  our Random Forest Model contains:  200\n"
     ]
    }
   ],
   "source": [
    "print(\"Number of Descision Trees  our Random Forest Model contains: \", len(rfc.estimators_))"
   ]
  },
  {
   "cell_type": "code",
   "execution_count": 70,
   "metadata": {
    "_uuid": "5b15f1c11c91dcdd046ef2842529cbe2811ca486",
    "scrolled": true
   },
   "outputs": [],
   "source": [
    "# NOTE: Depending on your device performance, you may want to\n",
    "#       run the command below because it is resource intensive\n",
    "\n",
    "# Running the command below will draw the entire descision tree!\n",
    "# You can copy the image and paste it in Microsoft Paint or another image viewer and see the decision paths.\n",
    "\n",
    "#draw_decision_tree(rfc.estimators_[5])"
   ]
  }
 ],
 "metadata": {
  "kernelspec": {
   "display_name": "Python 3",
   "language": "python",
   "name": "python3"
  },
  "language_info": {
   "codemirror_mode": {
    "name": "ipython",
    "version": 3
   },
   "file_extension": ".py",
   "mimetype": "text/x-python",
   "name": "python",
   "nbconvert_exporter": "python",
   "pygments_lexer": "ipython3",
   "version": "3.6.6"
  }
 },
 "nbformat": 4,
 "nbformat_minor": 1
}
